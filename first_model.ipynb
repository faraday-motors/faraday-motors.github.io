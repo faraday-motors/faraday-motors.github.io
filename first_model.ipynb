{
 "cells": [
  {
   "cell_type": "code",
   "execution_count": 1,
   "metadata": {
    "collapsed": false
   },
   "outputs": [],
   "source": [
    "import numpy as np\n",
    "import matplotlib.pyplot as plt\n",
    "from sklearn import metrics\n",
    "from sklearn.naive_bayes import MultinomialNB\n",
    "from sklearn.linear_model import LogisticRegression\n",
    "from sklearn.naive_bayes import BernoulliNB\n",
    "from sklearn.grid_search import GridSearchCV\n",
    "from sklearn.feature_extraction.text import *\n",
    "import csv\n"
   ]
  },
  {
   "cell_type": "markdown",
   "metadata": {},
   "source": [
    "Read merged data file with charging stations and ACS data"
   ]
  },
  {
   "cell_type": "code",
   "execution_count": 2,
   "metadata": {
    "collapsed": false
   },
   "outputs": [
    {
     "name": "stdout",
     "output_type": "stream",
     "text": [
      "(30514,) (30514, 6) [  6.40200000e+03   4.97188379e-01   1.94000000e+01   6.00000000e-01\n",
      "   0.00000000e+00   0.00000000e+00] 1.0\n",
      "(30514, 6) (30514,) [  1.21300000e+03   4.50123660e-01   3.97000000e+01   0.00000000e+00\n",
      "   3.52120000e+04   8.70689655e-01] 0.0\n",
      "float64 float64\n",
      "float64\n",
      "30514 22885\n",
      "(22885, 6) (22885,)\n",
      "(7629, 6) (7629,)\n",
      "[  2.64000000e+03   4.96969697e-01   4.05000000e+01   1.06000000e+01\n",
      "   2.84090000e+04   7.18568665e-01] 0.0\n",
      "[  3.23560000e+04   5.01730745e-01   3.64000000e+01   2.18000000e+01\n",
      "   4.57570000e+04   6.60303392e-01] 2.0\n"
     ]
    }
   ],
   "source": [
    "#import the merged charging station and ACS data\n",
    "# lines = open('data/add_0_stations.csv').read().splitlines()\n",
    "# preprocessed the data file and removed missing values\n",
    "# to do: use imputer to handle missing vaules in scikit\n",
    "# http://stackoverflow.com/questions/30317119/classifiers-in-scikit-learn-that-handle-nan-null?lq=1\n",
    "lines = open('data/missing_values_removed.csv').read().splitlines()\n",
    "#Remove the first row, it's just the headings\n",
    "lines.pop(0)\n",
    "\n",
    "zip_code, count, population, male_pct, age, college_pct, income, home_pct = [], [], [], [], [], [], [], []\n",
    "for line in lines:\n",
    "    items = line.split(',')\n",
    "    zip_code.append(items[0])\n",
    "    count.append(float(items[1]))\n",
    "    population.append(float(items[2]))\n",
    "    male_pct.append(float(items[3]))\n",
    "    age.append(float(items[4]))\n",
    "    college_pct.append(float(items[5]))\n",
    "    income.append(float(items[6]))\n",
    "    home_pct.append(float(items[7]))\n",
    "    \n",
    "# combine lists to numpy arrays for data and labels\n",
    "Y=np.array(count)\n",
    "X=np.vstack((population,male_pct, age, college_pct, income, home_pct))\n",
    "# X=np.vstack((population, male_pct, home_pct))\n",
    "X=np.transpose(X)\n",
    "print Y.shape, X.shape, X[0], Y[0]\n",
    "\n",
    "# add shuffle code before splitting the data into train and dev sets\n",
    "# easiest shuffle utility is sklearn shuffle function\n",
    "from sklearn.utils import shuffle\n",
    "\n",
    "# shuffle two arrays in unison\n",
    "X, Y = shuffle(X, Y, random_state=0)\n",
    "print X.shape, Y.shape, X[0], Y[0]\n",
    "# determine the data type of the two arrays\n",
    "print X.dtype, Y.dtype\n",
    "# convert to strings\n",
    "# must handle missing values first by making missing values zeros\n",
    "X[X==''] = '0'\n",
    "# now convert to float or leave them alone - converting now to make the code cleaner\n",
    "X1=X.astype(np.float)\n",
    "print X1.dtype\n",
    "\n",
    "# Split the imported data into training 75% and development data 25%\n",
    "\n",
    "split = 3*len(zip_code)/4\n",
    "\n",
    "print len(zip_code), split\n",
    "\n",
    "train_data, train_labels = X[:split], Y[:split]\n",
    "dev_data, dev_labels = X[split:], Y[split:]\n",
    "\n",
    "print train_data.shape, train_labels.shape\n",
    "print dev_data.shape, dev_labels.shape\n",
    "print train_data[1], train_labels[1]\n",
    "print dev_data[0], dev_labels[0]\n",
    "# dev_dat=np.array(dev_data)\n",
    "# print dev_dat.sum()"
   ]
  },
  {
   "cell_type": "code",
   "execution_count": 22,
   "metadata": {
    "collapsed": false
   },
   "outputs": [
    {
     "name": "stdout",
     "output_type": "stream",
     "text": [
      "('Coefficients: \\n', array([  2.06276543e-05,   7.74429448e-01,   7.38819633e-03,\n",
      "         9.43223599e-03,   1.42421493e-05,  -1.71728883e+00]))\n",
      "Variance score: 0.19\n",
      "[ 0.7910512]\n",
      "[ 1.49000013]\n"
     ]
    }
   ],
   "source": [
    "# try lineary regression mode\n",
    "from sklearn import datasets, linear_model\n",
    "\n",
    "# Create linear regression object\n",
    "regr = linear_model.LinearRegression()\n",
    "\n",
    "# Train the model using the training sets\n",
    "regr.fit(train_data, train_labels)\n",
    "\n",
    "# The coefficients\n",
    "print('Coefficients: \\n', regr.coef_)\n",
    "\n",
    "# score\n",
    "print('Variance score: %.2f' % regr.score(dev_data, dev_labels))\n",
    "\n",
    "# predicted charging station count\n",
    "X1 = np.array([5000,0.60, 45, 30, 38400, 0.62])\n",
    "print regr.predict(X1)\n",
    "\n",
    "# predicting charging station count for Coppell Texas\n",
    "X_Coppell=np.array([39551,0.488938333,37.9,22.1,64572,0.721044394])\n",
    "print regr.predict(X_Coppell)"
   ]
  },
  {
   "cell_type": "markdown",
   "metadata": {},
   "source": [
    "Interpretation of the Linear Regression model: Number of charging stations in each region is positively correlated to the population, percentage of male population, age, percentage of the population which is college educated, and income and negatively correlated to the percentage of home owners. The model predicts two charging stations for each 100,000 increase in population, ~0.08 charging stations for 10% increase in male percentage, ~0.07 charging stations for every 10 years increase in median age, ~0.1 charging station for every 10% increase in % of college educated, and ~0.14 charging stations for every $10,000 increase in median income; and -0.17 charging stations for every 10 percentage increase in home ownership.  As an example, the simple linear model predicts 1.5 charging stations for Coppell, Texas (vs. 3 actual charging stations). The underestimate is due to the combination of the high percentage of home owership (74 percent) and relatively small population (less than 40,000)."
   ]
  },
  {
   "cell_type": "code",
   "execution_count": 21,
   "metadata": {
    "collapsed": false,
    "scrolled": true
   },
   "outputs": [
    {
     "name": "stdout",
     "output_type": "stream",
     "text": [
      "(7629, 22) (7629,)\n",
      "('Population vs Count of Charging Stations: \\n', array([ -6.24965092e-05,   3.84905880e-05,   4.11146155e-05,\n",
      "         4.20765276e-05,   3.71488656e-05,   4.27376529e-05,\n",
      "         3.00211929e-05,   3.59851999e-05,   2.33181054e-05,\n",
      "         2.95837782e-05,   3.71766846e-05,   2.16639585e-05,\n",
      "         1.47126372e-05,   2.06326063e-05,   1.09043719e-05,\n",
      "         2.35479542e-05,   1.23702781e-05,   3.01320246e-05,\n",
      "         8.13223412e-05,  -1.79392722e-05,   3.47318109e-05,\n",
      "        -2.34569037e-05]))\n",
      "('Home Ownership Percentage vs Count of Charging Stations: \\n', array([ 3.53924789, -1.20996458, -2.34742788, -2.25901343, -1.95431473,\n",
      "       -2.76163876, -3.74625369, -1.82988655, -4.0288416 , -3.6799433 ,\n",
      "       -2.17591589, -3.01125168, -2.97108184,  0.        , -0.2805755 ,\n",
      "       -2.18403424, -3.53738405,  0.        ,  0.        ,  0.        ,\n",
      "        0.        ,  0.        ]))\n",
      "0.860663258618\n",
      "[[  3.05071818e-01   3.19601599e-01   1.71346812e-01   9.17765977e-02\n",
      "    4.68986899e-02   2.47054092e-02   1.08362028e-02   1.27194633e-02\n",
      "    4.46825416e-03   5.53163616e-03   3.60504498e-03   8.69383131e-04\n",
      "    5.29774506e-04   1.26570200e-05   9.68296497e-04   2.64506916e-04\n",
      "    2.79174167e-04   4.42107325e-04   9.08774468e-06   1.35509734e-05\n",
      "    4.28269029e-05   7.10715078e-06]]\n"
     ]
    }
   ],
   "source": [
    "# fit the first model with logistic regression \n",
    "#\n",
    "logreg = LogisticRegression(penalty='l1', C=1.0, tol=0.01) \n",
    "logreg.fit(train_data, train_labels)\n",
    "\n",
    "# examine predict prob for test data\n",
    "print logreg.predict_proba(dev_data).shape, dev_labels.shape\n",
    "\n",
    "# coeff_ for predictor, e.g., 0th=pop, 1st=male pct, 2nd=age, 3rd=college pct, 4th income, 5th home owning pct\n",
    "# vs labels - 0th =0 charging station, 1st =1 charging station etc....\n",
    "print('Population vs Count of Charging Stations: \\n', np.transpose(logreg.coef_)[0])\n",
    "\n",
    "print('Home Ownership Percentage vs Count of Charging Stations: \\n', np.transpose(logreg.coef_)[5])\n",
    "\n",
    "# examine score for test data\n",
    "print logreg.score(dev_data, dev_labels)\n",
    "\n",
    "# predicting Coppell Texas with this LogReg model\n",
    "X_Coppell=np.array([39551,0.488938333,37.9,22.1,64572,0.721044394])\n",
    "\n",
    "print logreg.predict_proba(X_Coppell)"
   ]
  },
  {
   "cell_type": "markdown",
   "metadata": {},
   "source": [
    "Logistic Regression showed similar results although the score is much higher for the test data set 86%. However, in reality, the predicting power of the model is limited. E.g., for Coppell, Texas, the model predicts 30.5% probability of 0, 32.0% of 1, 17.1% of 2 charging stations, etc.. The example is slightly unfair as Coppell is a small town of less than 40,000 residents, and with moderately high income (positive) and home owing percegtage (negative).\n",
    "\n",
    "Improvements to the model. Play with the class weight parameter, perhaps to underweigh data points with 0 charging stations and overweigh these with higher counts of charging stations. "
   ]
  }
 ],
 "metadata": {
  "kernelspec": {
   "display_name": "Python 2",
   "language": "python",
   "name": "python2"
  },
  "language_info": {
   "codemirror_mode": {
    "name": "ipython",
    "version": 2
   },
   "file_extension": ".py",
   "mimetype": "text/x-python",
   "name": "python",
   "nbconvert_exporter": "python",
   "pygments_lexer": "ipython2",
   "version": "2.7.6"
  }
 },
 "nbformat": 4,
 "nbformat_minor": 0
}
