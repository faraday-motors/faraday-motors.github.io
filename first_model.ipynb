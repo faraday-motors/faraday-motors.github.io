{
 "cells": [
  {
   "cell_type": "code",
   "execution_count": 7,
   "metadata": {
    "collapsed": false
   },
   "outputs": [],
   "source": [
    "%matplotlib inline\n",
    "\n",
    "import numpy as np\n",
    "import matplotlib.pyplot as plt\n",
    "from sklearn import metrics\n",
    "from sklearn.naive_bayes import MultinomialNB\n",
    "from sklearn.linear_model import LogisticRegression\n",
    "from sklearn.naive_bayes import BernoulliNB\n",
    "from sklearn.grid_search import GridSearchCV\n",
    "from sklearn.feature_extraction.text import *\n",
    "from sklearn.ensemble import RandomForestClassifier, RandomForestRegressor\n",
    "from sklearn.metrics import accuracy_score\n",
    "from sklearn.metrics import explained_variance_score\n",
    "from sklearn.metrics import mean_absolute_error\n",
    "from sklearn.metrics import mean_squared_error\n",
    "from sklearn.metrics import r2_score\n",
    "import csv\n"
   ]
  },
  {
   "cell_type": "markdown",
   "metadata": {},
   "source": [
    "Read merged data file with charging stations and ACS data"
   ]
  },
  {
   "cell_type": "code",
   "execution_count": 3,
   "metadata": {
    "collapsed": false
   },
   "outputs": [
    {
     "name": "stdout",
     "output_type": "stream",
     "text": [
      "(30514,) (30514, 6) [  6.40200000e+03   4.97188379e-01   1.94000000e+01   6.00000000e-01\n",
      "   0.00000000e+00   0.00000000e+00] 1.0\n",
      "(30514, 6) (30514,) [  1.21300000e+03   4.50123660e-01   3.97000000e+01   0.00000000e+00\n",
      "   3.52120000e+04   8.70689655e-01] 0.0\n",
      "float64 float64\n",
      "float64\n",
      "30514 22885\n",
      "(22885, 6) (22885,)\n",
      "(7629, 6) (7629,)\n",
      "[  2.64000000e+03   4.96969697e-01   4.05000000e+01   1.06000000e+01\n",
      "   2.84090000e+04   7.18568665e-01] 0.0\n",
      "[  3.23560000e+04   5.01730745e-01   3.64000000e+01   2.18000000e+01\n",
      "   4.57570000e+04   6.60303392e-01] 2.0\n"
     ]
    }
   ],
   "source": [
    "#import the merged charging station and ACS data\n",
    "# lines = open('data/add_0_stations.csv').read().splitlines()\n",
    "# preprocessed the data file and removed missing values\n",
    "# to do: use imputer to handle missing vaules in scikit\n",
    "# http://stackoverflow.com/questions/30317119/classifiers-in-scikit-learn-that-handle-nan-null?lq=1\n",
    "lines = open('data/missing_values_removed.csv').read().splitlines()\n",
    "#Remove the first row, it's just the headings\n",
    "lines.pop(0)\n",
    "\n",
    "zip_code, count, population, male_pct, age, college_pct, income, home_pct = [], [], [], [], [], [], [], []\n",
    "for line in lines:\n",
    "    items = line.split(',')\n",
    "    zip_code.append(items[0])\n",
    "    count.append(float(items[1]))\n",
    "    population.append(float(items[2]))\n",
    "    male_pct.append(float(items[3]))\n",
    "    age.append(float(items[4]))\n",
    "    college_pct.append(float(items[5]))\n",
    "    income.append(float(items[6]))\n",
    "    home_pct.append(float(items[7]))\n",
    "    \n",
    "# combine lists to numpy arrays for data and labels\n",
    "Y=np.array(count)\n",
    "X=np.vstack((population,male_pct, age, college_pct, income, home_pct))\n",
    "# X=np.vstack((population, male_pct, home_pct))\n",
    "X=np.transpose(X)\n",
    "print Y.shape, X.shape, X[0], Y[0]\n",
    "\n",
    "# add shuffle code before splitting the data into train and dev sets\n",
    "# easiest shuffle utility is sklearn shuffle function\n",
    "from sklearn.utils import shuffle\n",
    "\n",
    "# shuffle two arrays in unison\n",
    "X, Y = shuffle(X, Y, random_state=0)\n",
    "print X.shape, Y.shape, X[0], Y[0]\n",
    "# determine the data type of the two arrays\n",
    "print X.dtype, Y.dtype\n",
    "# convert to strings\n",
    "# must handle missing values first by making missing values zeros\n",
    "X[X==''] = '0'\n",
    "# now convert to float or leave them alone - converting now to make the code cleaner\n",
    "X1=X.astype(np.float)\n",
    "print X1.dtype\n",
    "\n",
    "# Split the imported data into training 75% and development data 25%\n",
    "\n",
    "split = 3*len(zip_code)/4\n",
    "\n",
    "print len(zip_code), split\n",
    "\n",
    "train_data, train_labels = X[:split], Y[:split]\n",
    "dev_data, dev_labels = X[split:], Y[split:]\n",
    "\n",
    "print train_data.shape, train_labels.shape\n",
    "print dev_data.shape, dev_labels.shape\n",
    "print train_data[1], train_labels[1]\n",
    "print dev_data[0], dev_labels[0]\n",
    "# dev_dat=np.array(dev_data)\n",
    "# print dev_dat.sum()"
   ]
  },
  {
   "cell_type": "code",
   "execution_count": 4,
   "metadata": {
    "collapsed": false
   },
   "outputs": [
    {
     "name": "stdout",
     "output_type": "stream",
     "text": [
      "('Coefficients: \\n', array([  2.06276543e-05,   7.74429448e-01,   7.38819633e-03,\n",
      "         9.43223599e-03,   1.42421493e-05,  -1.71728883e+00]))\n",
      "Variance score: 0.19\n",
      "[ 0.7910512]\n",
      "[ 1.49000013]\n",
      "(7629,) (7629,)\n",
      "1.17392281455 2.0\n",
      "0.0 24.0 -0.938423306964 4.06341214104\n"
     ]
    },
    {
     "data": {
      "image/png": "[encoded data removed]",
      "text/plain": [
       "<matplotlib.figure.Figure at 0x1099e2890>"
      ]
     },
     "metadata": {},
     "output_type": "display_data"
    }
   ],
   "source": [
    "# try lineary regression mode\n",
    "from sklearn import datasets, linear_model\n",
    "\n",
    "# Create linear regression object\n",
    "regr = linear_model.LinearRegression()\n",
    "\n",
    "# Train the model using the training sets\n",
    "regr.fit(train_data, train_labels)\n",
    "\n",
    "# The coefficients\n",
    "print('Coefficients: \\n', regr.coef_)\n",
    "\n",
    "# score\n",
    "print('Variance score: %.2f' % regr.score(dev_data, dev_labels))\n",
    "\n",
    "# predicted charging station count\n",
    "X1 = np.array([5000,0.60, 45, 30, 38400, 0.62])\n",
    "print regr.predict(X1)\n",
    "\n",
    "# predicting charging station count for Coppell Texas\n",
    "X_Coppell=np.array([39551,0.488938333,37.9,22.1,64572,0.721044394])\n",
    "print regr.predict(X_Coppell)\n",
    "\n",
    "# predict the dev data set\n",
    "dev_predictions=regr.predict(dev_data)\n",
    "print dev_predictions.shape, dev_labels.shape\n",
    "print dev_predictions[0], dev_labels[0]\n",
    "print np.amin(dev_labels), np.amax(dev_labels), np.amin(dev_predictions), np.amax(dev_predictions)\n",
    "\n",
    "# visualize predicted vs actual labels\n",
    "import matplotlib.pyplot as plt\n",
    "plt.axis([0, 12, -1, 5])\n",
    "plt.plot(dev_labels, dev_predictions, 'r.')\n",
    "plt.show()"
   ]
  },
  {
   "cell_type": "markdown",
   "metadata": {},
   "source": [
    "Interpretation of the Linear Regression model: Number of charging stations in each region is positively correlated to the population, percentage of male population, age, percentage of the population which is college educated, and income and negatively correlated to the percentage of home owners. The model predicts two charging stations for each 100,000 increase in population, ~0.08 charging stations for 10% increase in male percentage, ~0.07 charging stations for every 10 years increase in median age, ~0.1 charging station for every 10% increase in % of college educated, and ~0.14 charging stations for every $10,000 increase in median income; and -0.17 charging stations for every 10 percentage increase in home ownership.  As an example, the simple linear model predicts 1.5 charging stations for Coppell, Texas (vs. 3 actual charging stations). The underestimate is due to the combination of the high percentage of home owership (74 percent) and relatively small population (less than 40,000)."
   ]
  },
  {
   "cell_type": "code",
   "execution_count": 5,
   "metadata": {
    "collapsed": false,
    "scrolled": true
   },
   "outputs": [
    {
     "name": "stdout",
     "output_type": "stream",
     "text": [
      "(7629, 22) (7629,)\n",
      "('Population vs Count of Charging Stations: \\n', array([ -6.35838816e-05,   3.99904267e-05,   4.12066449e-05,\n",
      "         4.04620467e-05,   3.74249101e-05,   4.26432132e-05,\n",
      "         3.18440686e-05,   3.58410047e-05,   2.14853816e-05,\n",
      "         2.94958766e-05,   3.60297745e-05,   2.14816769e-05,\n",
      "         1.29223177e-05,   2.03529557e-05,   1.42907769e-05,\n",
      "         2.26703763e-05,   1.21224176e-05,   3.00335611e-05,\n",
      "         8.07651210e-05,  -1.72886492e-05,   3.53853968e-05,\n",
      "        -2.29583043e-05]))\n",
      "('Home Ownership Percentage vs Count of Charging Stations: \\n', array([ 2.7003314 , -1.5531317 , -1.70959076, -2.06338246, -2.32062045,\n",
      "       -2.77206527, -4.0262157 , -1.75754273, -3.72127454, -3.5504402 ,\n",
      "       -2.11762072, -2.75531016, -3.27517465,  0.        , -0.06055596,\n",
      "       -2.58273243, -3.47037013,  0.        ,  0.        ,  0.        ,\n",
      "        0.        ,  0.        ]))\n",
      "0.861580810067\n",
      "[[  3.08901717e-01   3.24251752e-01   1.72847463e-01   8.83117597e-02\n",
      "    4.40121529e-02   2.30078065e-02   1.03623473e-02   1.23363282e-02\n",
      "    4.02618149e-03   5.33368813e-03   3.22277020e-03   8.26751023e-04\n",
      "    3.93986218e-04   1.12748024e-05   1.14815157e-03   2.38499238e-04\n",
      "    2.67600064e-04   4.28113775e-04   9.06750378e-06   1.35125328e-05\n",
      "    4.20753057e-05   7.00154263e-06]]\n"
     ]
    }
   ],
   "source": [
    "# fit the first model with logistic regression \n",
    "#\n",
    "logreg = LogisticRegression(penalty='l1', C=1.0, tol=0.01) \n",
    "logreg.fit(train_data, train_labels)\n",
    "\n",
    "# examine predict prob for test data\n",
    "print logreg.predict_proba(dev_data).shape, dev_labels.shape\n",
    "\n",
    "# coeff_ for predictor, e.g., 0th=pop, 1st=male pct, 2nd=age, 3rd=college pct, 4th income, 5th home owning pct\n",
    "# vs labels - 0th =0 charging station, 1st =1 charging station etc....\n",
    "print('Population vs Count of Charging Stations: \\n', np.transpose(logreg.coef_)[0])\n",
    "\n",
    "print('Home Ownership Percentage vs Count of Charging Stations: \\n', np.transpose(logreg.coef_)[5])\n",
    "\n",
    "# examine score for test data\n",
    "print logreg.score(dev_data, dev_labels)\n",
    "\n",
    "# predicting Coppell Texas with this LogReg model\n",
    "X_Coppell=np.array([39551,0.488938333,37.9,22.1,64572,0.721044394])\n",
    "\n",
    "print logreg.predict_proba(X_Coppell)"
   ]
  },
  {
   "cell_type": "markdown",
   "metadata": {},
   "source": [
    "Logistic Regression showed similar results although the score is much higher for the test data set 86%. However, in reality, the predicting power of the model is limited. E.g., for Coppell, Texas, the model predicts 30.5% probability of 0, 32.0% of 1, 17.1% of 2 charging stations, etc.. The example is slightly unfair as Coppell is a small town of less than 40,000 residents, and with moderately high income (positive) and home owing percegtage (negative).\n",
    "\n",
    "Improvements to the model. Play with the class weight parameter, perhaps to underweigh data points with 0 charging stations and overweigh these with higher counts of charging stations. "
   ]
  },
  {
   "cell_type": "code",
   "execution_count": 8,
   "metadata": {
    "collapsed": false
   },
   "outputs": [
    {
     "data": {
      "image/png": "[encoded data removed]",
      "text/plain": [
       "<matplotlib.figure.Figure at 0x10b08f650>"
      ]
     },
     "metadata": {},
     "output_type": "display_data"
    },
    {
     "name": "stdout",
     "output_type": "stream",
     "text": [
      "0.214752883712 0.396434657229 1.24630751081 0.213899601076\n"
     ]
    }
   ],
   "source": [
    "# random forest modeling\n",
    "\n",
    "random = RandomForestRegressor()\n",
    "random.fit(train_data, train_labels)\n",
    "\n",
    "# Make predictions on dev data\n",
    "dev_predictions = random.predict(dev_data)\n",
    "\n",
    "plt.plot(dev_labels, dev_predictions, 'r.')\n",
    "plt.show()\n",
    "\n",
    "_explained_variance_score = explained_variance_score(dev_labels, dev_predictions)\n",
    "_mean_absolute_error = mean_absolute_error(dev_labels, dev_predictions)\n",
    "_mean_squared_error = mean_squared_error(dev_labels, dev_predictions)\n",
    "_r2_score = r2_score(dev_labels, dev_predictions)\n",
    "\n",
    "print _explained_variance_score, _mean_absolute_error, _mean_squared_error, _r2_score"
   ]
  },
  {
   "cell_type": "code",
   "execution_count": null,
   "metadata": {
    "collapsed": true
   },
   "outputs": [],
   "source": []
  }
 ],
 "metadata": {
  "kernelspec": {
   "display_name": "Python 2",
   "language": "python",
   "name": "python2"
  },
  "language_info": {
   "codemirror_mode": {
    "name": "ipython",
    "version": 2
   },
   "file_extension": ".py",
   "mimetype": "text/x-python",
   "name": "python",
   "nbconvert_exporter": "python",
   "pygments_lexer": "ipython2",
   "version": "2.7.6"
  }
 },
 "nbformat": 4,
 "nbformat_minor": 0
}
