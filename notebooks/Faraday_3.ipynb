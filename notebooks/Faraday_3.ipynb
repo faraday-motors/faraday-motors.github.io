{
 "cells": [
  {
   "cell_type": "code",
   "execution_count": 2,
   "metadata": {
    "collapsed": false
   },
   "outputs": [],
   "source": [
    "%matplotlib inline\n",
    "\n",
    "import math\n",
    "\n",
    "import numpy as np\n",
    "import scipy as sp\n",
    "import pandas as pd\n",
    "\n",
    "from sklearn.linear_model import LinearRegression, LogisticRegression\n",
    "from sklearn.ensemble import RandomForestClassifier, RandomForestRegressor\n",
    "\n",
    "from sklearn.metrics import accuracy_score\n",
    "from sklearn.metrics import explained_variance_score\n",
    "from sklearn.metrics import mean_absolute_error\n",
    "from sklearn.metrics import mean_squared_error\n",
    "from sklearn.metrics import r2_score\n",
    "\n",
    "from sklearn.cross_validation import train_test_split\n",
    "\n",
    "\n",
    "import matplotlib.pyplot as plt\n"
   ]
  },
  {
   "cell_type": "code",
   "execution_count": 4,
   "metadata": {
    "collapsed": false
   },
   "outputs": [],
   "source": [
    "data = pd.read_csv('../nikhil/initial_data_urban_area.csv')"
   ]
  },
  {
   "cell_type": "code",
   "execution_count": 77,
   "metadata": {
    "collapsed": false
   },
   "outputs": [],
   "source": [
    "# list(data.columns.values)"
   ]
  },
  {
   "cell_type": "code",
   "execution_count": 6,
   "metadata": {
    "collapsed": false
   },
   "outputs": [
    {
     "name": "stdout",
     "output_type": "stream",
     "text": [
      "1010\n"
     ]
    }
   ],
   "source": [
    "df = data[data['StationCount']>0]\n",
    "# df = data\n",
    "print len(df)\n",
    "# df[\"rate\"] = df[\"Total\"]/df[\"count\"]\n",
    "# df = df.drop('UANUM', 1).drop('UANAME', 1).drop('UANAME_LONG', 1).drop('PeoplePerStation', 1).drop('StationsPerPerson', 1).drop('State', 1).drop('Geography', 1).drop('Latitude', 1).drop('Longitude', 1)\n",
    "df = df.dropna()\n",
    "# list(df.columns.values)"
   ]
  },
  {
   "cell_type": "code",
   "execution_count": 15,
   "metadata": {
    "collapsed": false
   },
   "outputs": [],
   "source": [
    "df['Total; Estimate; Population 18 to 24 years'] =df['Total; Estimate; Population 18 to 24 years']/df['Population']\n",
    "df['Male; Estimate; Population 18 to 24 years'] =df['Male; Estimate; Population 18 to 24 years']/df['Population']\n",
    "df['Female; Estimate; Population 18 to 24 years'] =df['Female; Estimate; Population 18 to 24 years']/df['Population']\n",
    "df['Total; Estimate; Population 25 years and over'] =df['Total; Estimate; Population 25 years and over']/df['Population']\n",
    "df['Male; Estimate; Population 25 years and over'] =df['Male; Estimate; Population 25 years and over']/df['Population']\n",
    "df['Female; Estimate; Population 25 years and over'] =df['Female; Estimate; Population 25 years and over']/df['Population']\n",
    "df['Total; Estimate; Population 25 to 34 years'] =df['Total; Estimate; Population 25 to 34 years']/df['Population']\n",
    "df['Male; Estimate; Population 25 to 34 years'] =df['Male; Estimate; Population 25 to 34 years']/df['Population']\n",
    "df['Female; Estimate; Population 25 to 34 years'] =df['Female; Estimate; Population 25 to 34 years']/df['Population']\n",
    "df['Total; Estimate; Population 35 to 44 years'] =df['Total; Estimate; Population 35 to 44 years']/df['Population']\n",
    "df['Male; Estimate; Population 35 to 44 years'] =df['Male; Estimate; Population 35 to 44 years']/df['Population']\n",
    "df['Female; Estimate; Population 35 to 44 years'] =df['Female; Estimate; Population 35 to 44 years']/df['Population']\n",
    "df['Total; Estimate; Population 45 to 64 years'] =df['Total; Estimate; Population 45 to 64 years']/df['Population']\n",
    "df['Male; Estimate; Population 45 to 64 years'] =df['Male; Estimate; Population 45 to 64 years']/df['Population']\n",
    "df['Female; Estimate; Population 45 to 64 years'] =df['Female; Estimate; Population 45 to 64 years']/df['Population']\n",
    "df['Total; Estimate; Population 65 years and over'] =df['Total; Estimate; Population 65 years and over']/df['Population']\n",
    "df['Male; Estimate; Population 65 years and over'] =df['Male; Estimate; Population 65 years and over']/df['Population']\n",
    "df['Female; Estimate; Population 65 years and over'] =df['Female; Estimate; Population 65 years and over']/df['Population']\n",
    "df['graduate_25+'] =df['graduate_25+']/df['Population']\n",
    "df = df.drop('Population', 1)"
   ]
  },
  {
   "cell_type": "code",
   "execution_count": 25,
   "metadata": {
    "collapsed": false
   },
   "outputs": [
    {
     "data": {
      "text/plain": [
       "StationCount                                                                        5.000000e+00\n",
       "IncentivesCount                                                                     2.000000e+00\n",
       "percent_own                                                                         6.321343e+01\n",
       "Household Income Less than $10,000                                                  1.424400e+04\n",
       "Household Income $10,000 to $14,999                                                 9.144000e+03\n",
       "Household Income $15,000 to $19,999                                                 8.983000e+03\n",
       "Household Income $20,000 to $24,999                                                 7.793000e+03\n",
       "Household Income $25,000 to $29,999                                                 7.279000e+03\n",
       "Household Income $30,000 to $34,999                                                 7.170000e+03\n",
       "Household Income $35,000 to $39,999                                                 5.752000e+03\n",
       "Household Income $40,000 to $44,999                                                 5.964000e+03\n",
       "Household Income $45,000 to $49,999                                                 5.155000e+03\n",
       "Household Income $50,000 to $59,999                                                 1.122800e+04\n",
       "Household Income $60,000 to $74,999                                                 1.196000e+04\n",
       "Household Income $75,000 to $99,999                                                 1.294800e+04\n",
       "Household Income $100,000 to $124,999                                               7.707000e+03\n",
       "Household Income $125,000 to $149,999                                               3.836000e+03\n",
       "Household Income $150,000 to $199,999                                               3.268000e+03\n",
       "Household Income $200,000 or more                                                   3.036000e+03\n",
       "Total; Estimate; Population 18 to 24 years                                          3.235386e-07\n",
       "Male; Estimate; Population 18 to 24 years                                           1.566046e-07\n",
       "Female; Estimate; Population 18 to 24 years                                         1.669340e-07\n",
       "Total; Estimate; Bachelor's degree or higher                                        8.300000e+00\n",
       "Male; Estimate; Bachelor's degree or higher                                         6.700000e+00\n",
       "Female; Estimate; Bachelor's degree or higher                                       9.700000e+00\n",
       "Total; Estimate; Population 25 years and over                                       2.011432e-06\n",
       "Male; Estimate; Population 25 years and over                                        9.341386e-07\n",
       "Female; Estimate; Population 25 years and over                                      1.077293e-06\n",
       "Total; Estimate; Population 25 years and over - Bachelor's degree                   1.510000e+01\n",
       "Male; Estimate; Population 25 years and over - Bachelor's degree                    1.440000e+01\n",
       "                                                                                        ...     \n",
       "Male; Estimate; Population 25 years and over - Graduate or professional degree      7.400000e+00\n",
       "Female; Estimate; Population 25 years and over - Graduate or professional degree    8.200000e+00\n",
       "Total; Estimate; Percent bachelor's degree or higher                                2.300000e+01\n",
       "Male; Estimate; Percent bachelor's degree or higher                                 2.180000e+01\n",
       "Female; Estimate; Percent bachelor's degree or higher                               2.390000e+01\n",
       "Total; Estimate; Population 25 to 34 years                                          4.162964e-07\n",
       "Male; Estimate; Population 25 to 34 years                                           2.020201e-07\n",
       "Female; Estimate; Population 25 to 34 years                                         2.142763e-07\n",
       "Total; Estimate; Population 25 to 34 years - Bachelor's degree or higher            2.510000e+01\n",
       "Male; Estimate; Population 25 to 34 years - Bachelor's degree or higher             2.150000e+01\n",
       "Female; Estimate; Population 25 to 34 years - Bachelor's degree or higher           2.860000e+01\n",
       "Total; Estimate; Population 35 to 44 years                                          3.741141e-07\n",
       "Male; Estimate; Population 35 to 44 years                                           1.791056e-07\n",
       "Female; Estimate; Population 35 to 44 years                                         1.950085e-07\n",
       "Total; Estimate; Population 35 to 44 years - Bachelor's degree or higher            2.450000e+01\n",
       "Male; Estimate; Population 35 to 44 years - Bachelor's degree or higher             1.980000e+01\n",
       "Female; Estimate; Population 35 to 44 years - Bachelor's degree or higher           2.870000e+01\n",
       "Total; Estimate; Population 45 to 64 years                                          8.016704e-07\n",
       "Male; Estimate; Population 45 to 64 years                                           3.837198e-07\n",
       "Female; Estimate; Population 45 to 64 years                                         4.179506e-07\n",
       "Total; Estimate; Population 45 to 64 years - Bachelor's degree or higher            2.340000e+01\n",
       "Male; Estimate; Population 45 to 64 years - Bachelor's degree or higher             2.220000e+01\n",
       "Female; Estimate; Population 45 to 64 years - Bachelor's degree or higher           2.450000e+01\n",
       "Total; Estimate; Population 65 years and over                                       4.193510e-07\n",
       "Male; Estimate; Population 65 years and over                                        1.692931e-07\n",
       "Female; Estimate; Population 65 years and over                                      2.500579e-07\n",
       "Total; Estimate; Population 65 years and over - Bachelor's degree or higher         1.860000e+01\n",
       "Male; Estimate; Population 65 years and over - Bachelor's degree or higher          2.350000e+01\n",
       "Female; Estimate; Population 65 years and over - Bachelor's degree or higher        1.530000e+01\n",
       "graduate_25+                                                                        1.589031e-07\n",
       "Name: 2133, dtype: float64"
      ]
     },
     "execution_count": 25,
     "metadata": {},
     "output_type": "execute_result"
    }
   ],
   "source": [
    "df = df.iloc[np.random.permutation(len(df))]\n",
    "df.reset_index(drop=True)\n",
    "# df\n",
    "# print \"\"\n",
    "df.iloc[0]"
   ]
  },
  {
   "cell_type": "code",
   "execution_count": 17,
   "metadata": {
    "collapsed": false,
    "scrolled": true
   },
   "outputs": [],
   "source": [
    "ndata = df.values\n",
    "ndata = np.hsplit(ndata, np.array([1]))\n",
    "Y = ndata[0]\n",
    "X = ndata[1]\n",
    "\n",
    "\n"
   ]
  },
  {
   "cell_type": "code",
   "execution_count": 18,
   "metadata": {
    "collapsed": false
   },
   "outputs": [
    {
     "name": "stdout",
     "output_type": "stream",
     "text": [
      "(753, 61) (753, 1)\n",
      "(251, 61) (251, 1)\n"
     ]
    }
   ],
   "source": [
    "train_X, dev_X, train_Y, dev_Y = train_test_split(X, Y, test_size=0.25, random_state=42)\n",
    "print train_X.shape, train_Y.shape\n",
    "print dev_X.shape, dev_Y.shape\n",
    "# print train_X\n",
    "# print train_Y"
   ]
  },
  {
   "cell_type": "code",
   "execution_count": 19,
   "metadata": {
    "collapsed": false,
    "scrolled": false
   },
   "outputs": [],
   "source": [
    "def try_reggressor(regressor) :\n",
    "\n",
    "#     print train_X.shape, train_Y.shape\n",
    "#     print dev_X.shape, dev_Y.shape\n",
    "\n",
    "    regressor.fit(train_X, train_Y)\n",
    "    dev_predictions = regressor.predict(dev_X)\n",
    "\n",
    "    plt.plot(dev_Y, dev_predictions, 'r.')\n",
    "    plt.show()\n",
    "\n",
    "    _explained_variance_score = explained_variance_score(dev_Y, dev_predictions)\n",
    "    _mean_absolute_error = mean_absolute_error(dev_Y, dev_predictions)\n",
    "    _mean_squared_error = mean_squared_error(dev_Y, dev_predictions)\n",
    "    _r2_score = r2_score(dev_Y, dev_predictions)\n",
    "    print _explained_variance_score, _mean_absolute_error, _mean_squared_error, _r2_score\n"
   ]
  },
  {
   "cell_type": "code",
   "execution_count": 20,
   "metadata": {
    "collapsed": false
   },
   "outputs": [
    {
     "data": {
      "image/png": "[encoded data removed]",
      "text/plain": [
       "<matplotlib.figure.Figure at 0x7f95d9ef1a50>"
      ]
     },
     "metadata": {},
     "output_type": "display_data"
    },
    {
     "name": "stdout",
     "output_type": "stream",
     "text": [
      "0.66608519907 8.06199857412 276.578288368 0.666032541232\n"
     ]
    }
   ],
   "source": [
    "try_reggressor(LinearRegression())"
   ]
  },
  {
   "cell_type": "code",
   "execution_count": 24,
   "metadata": {
    "collapsed": false,
    "scrolled": false
   },
   "outputs": [
    {
     "name": "stderr",
     "output_type": "stream",
     "text": [
      "/opt/anaconda/envs/capstone/lib/python2.7/site-packages/IPython/kernel/__main__.py:6: DataConversionWarning: A column-vector y was passed when a 1d array was expected. Please change the shape of y to (n_samples,), for example using ravel().\n"
     ]
    },
    {
     "data": {
      "image/png": "[encoded data removed]",
      "text/plain": [
       "<matplotlib.figure.Figure at 0x7f95da241050>"
      ]
     },
     "metadata": {},
     "output_type": "display_data"
    },
    {
     "name": "stdout",
     "output_type": "stream",
     "text": [
      "0.0311944784913 6.6390438247 806.91625498 0.0256510274007\n",
      "[  2.30951706e-03   1.39923099e-02   2.34924262e-04   1.72029644e-03\n",
      "   1.65800376e-04   2.85898510e-04   9.70910904e-04   5.31831173e-04\n",
      "   9.01262342e-05   4.05686182e-04   5.06486810e-04   6.17841349e-04\n",
      "   8.03659204e-02   1.65788381e-03   1.67622124e-03   2.43460788e-01\n",
      "   3.23330354e-01   1.73351574e-01   1.21239559e-05   1.47381608e-05\n",
      "   1.03818994e-05   3.61436094e-04   1.83255984e-03   1.85967117e-02\n",
      "   8.77624666e-05   9.40931075e-05   2.37932448e-05   1.92128857e-02\n",
      "   8.56755971e-03   6.17441781e-04   1.98685920e-02   8.44641839e-03\n",
      "   9.73813821e-03   4.67732454e-05   8.89739134e-05   2.86265639e-04\n",
      "   9.08773753e-06   2.02274696e-05   1.89169334e-05   7.40628937e-04\n",
      "   5.44455901e-04   6.75606718e-04   1.64139563e-05   3.97556248e-06\n",
      "   1.95683103e-06   5.69190265e-04   1.31926819e-02   7.78769551e-04\n",
      "   1.29691470e-05   4.04982519e-05   4.95317033e-05   1.70399244e-02\n",
      "   1.70455382e-02   6.95774139e-04   1.91307183e-04   2.15450519e-05\n",
      "   4.93844294e-05   2.30987428e-03   1.00689182e-02   2.30959617e-03\n",
      "   1.22072624e-05]\n",
      "Feature ranking:\n",
      "1. (0.323330) Household Income $150,000 to $199,999 \n",
      "2. (0.243461) Household Income $125,000 to $149,999 \n",
      "3. (0.173352) Household Income $200,000 or more \n",
      "4. (0.080366) Household Income $60,000 to $74,999 \n",
      "5. (0.019869) Total; Estimate; Population 25 years and over - Graduate or professional degree \n",
      "6. (0.019213) Total; Estimate; Population 25 years and over - Bachelor's degree \n",
      "7. (0.018597) Female; Estimate; Bachelor's degree or higher \n",
      "8. (0.017046) Male; Estimate; Population 45 to 64 years - Bachelor's degree or higher \n",
      "9. (0.017040) Total; Estimate; Population 45 to 64 years - Bachelor's degree or higher \n",
      "10. (0.013992) percent_own \n",
      "11. (0.013193) Male; Estimate; Population 35 to 44 years - Bachelor's degree or higher \n",
      "12. (0.010069) Male; Estimate; Population 65 years and over - Bachelor's degree or higher \n",
      "13. (0.009738) Female; Estimate; Population 25 years and over - Graduate or professional degree \n",
      "14. (0.008568) Male; Estimate; Population 25 years and over - Bachelor's degree \n",
      "15. (0.008446) Male; Estimate; Population 25 years and over - Graduate or professional degree \n",
      "16. (0.002310) Total; Estimate; Population 65 years and over - Bachelor's degree or higher \n",
      "17. (0.002310) Female; Estimate; Population 65 years and over - Bachelor's degree or higher \n",
      "18. (0.002310) IncentivesCount \n",
      "19. (0.001833) Male; Estimate; Bachelor's degree or higher \n",
      "20. (0.001720) Household Income $10,000 to $14,999 \n",
      "21. (0.001676) Household Income $100,000 to $124,999 \n",
      "22. (0.001658) Household Income $75,000 to $99,999 \n",
      "23. (0.000971) Household Income $25,000 to $29,999 \n",
      "24. (0.000779) Female; Estimate; Population 35 to 44 years - Bachelor's degree or higher \n",
      "25. (0.000741) Total; Estimate; Population 25 to 34 years - Bachelor's degree or higher \n",
      "26. (0.000696) Female; Estimate; Population 45 to 64 years - Bachelor's degree or higher \n",
      "27. (0.000676) Female; Estimate; Population 25 to 34 years - Bachelor's degree or higher \n",
      "28. (0.000618) Household Income $50,000 to $59,999 \n",
      "29. (0.000617) Female; Estimate; Population 25 years and over - Bachelor's degree \n",
      "30. (0.000569) Total; Estimate; Population 35 to 44 years - Bachelor's degree or higher \n",
      "31. (0.000544) Male; Estimate; Population 25 to 34 years - Bachelor's degree or higher \n",
      "32. (0.000532) Household Income $30,000 to $34,999 \n",
      "33. (0.000506) Household Income $45,000 to $49,999 \n",
      "34. (0.000406) Household Income $40,000 to $44,999 \n",
      "35. (0.000361) Total; Estimate; Bachelor's degree or higher \n",
      "36. (0.000286) Female; Estimate; Percent bachelor's degree or higher \n",
      "37. (0.000286) Household Income $20,000 to $24,999 \n",
      "38. (0.000235) Household Income Less than $10,000 \n",
      "39. (0.000191) Total; Estimate; Population 65 years and over \n",
      "40. (0.000166) Household Income $15,000 to $19,999 \n",
      "41. (0.000094) Male; Estimate; Population 25 years and over \n",
      "42. (0.000090) Household Income $35,000 to $39,999 \n",
      "43. (0.000089) Male; Estimate; Percent bachelor's degree or higher \n",
      "44. (0.000088) Total; Estimate; Population 25 years and over \n",
      "45. (0.000050) Female; Estimate; Population 45 to 64 years \n",
      "46. (0.000049) Female; Estimate; Population 65 years and over \n",
      "47. (0.000047) Total; Estimate; Percent bachelor's degree or higher \n",
      "48. (0.000040) Male; Estimate; Population 45 to 64 years \n",
      "49. (0.000024) Female; Estimate; Population 25 years and over \n",
      "50. (0.000022) Male; Estimate; Population 65 years and over \n",
      "51. (0.000020) Male; Estimate; Population 25 to 34 years \n",
      "52. (0.000019) Female; Estimate; Population 25 to 34 years \n",
      "53. (0.000016) Total; Estimate; Population 35 to 44 years \n",
      "54. (0.000015) Male; Estimate; Population 18 to 24 years \n",
      "55. (0.000013) Total; Estimate; Population 45 to 64 years \n",
      "56. (0.000012) graduate_25+ \n",
      "57. (0.000012) Total; Estimate; Population 18 to 24 years \n",
      "58. (0.000010) Female; Estimate; Population 18 to 24 years \n",
      "59. (0.000009) Total; Estimate; Population 25 to 34 years \n",
      "60. (0.000004) Male; Estimate; Population 35 to 44 years \n",
      "61. (0.000002) Female; Estimate; Population 35 to 44 years \n"
     ]
    },
    {
     "data": {
      "image/png": "[encoded data removed]",
      "text/plain": [
       "<matplotlib.figure.Figure at 0x7f95da4b7bd0>"
      ]
     },
     "metadata": {},
     "output_type": "display_data"
    }
   ],
   "source": [
    "forest = RandomForestRegressor()\n",
    "try_reggressor(forest)\n",
    "print forest.feature_importances_\n",
    "\n",
    "importances = forest.feature_importances_\n",
    "std = np.std([tree.feature_importances_ for tree in forest.estimators_],\n",
    "             axis=0)\n",
    "indices = np.argsort(importances)[::-1]\n",
    "\n",
    "# Print the feature ranking\n",
    "print(\"Feature ranking:\")\n",
    "\n",
    "cols = train_X.shape[1]\n",
    "for f in range(cols):\n",
    "    print(\"%d. (%f) %s \" % (f + 1, importances[indices[f]], df.columns[indices[f]+1]))\n",
    "\n",
    "# Plot the feature importances of the forest\n",
    "plt.figure()\n",
    "plt.title(\"Feature importances\")\n",
    "plt.bar(range(cols), importances[indices],\n",
    "       color=\"r\", yerr=std[indices], align=\"center\")\n",
    "plt.xticks(range(cols), indices)\n",
    "plt.xlim([-1, 10])\n",
    "plt.show()"
   ]
  },
  {
   "cell_type": "code",
   "execution_count": 74,
   "metadata": {
    "collapsed": false
   },
   "outputs": [
    {
     "name": "stderr",
     "output_type": "stream",
     "text": [
      "/opt/anaconda/envs/capstone/lib/python2.7/site-packages/IPython/kernel/__main__.py:6: DataConversionWarning: A column-vector y was passed when a 1d array was expected. Please change the shape of y to (n_samples,), for example using ravel().\n"
     ]
    },
    {
     "data": {
      "image/png": "[encoded data removed]",
      "text/plain": [
       "<matplotlib.figure.Figure at 0x7fa24dc32110>"
      ]
     },
     "metadata": {},
     "output_type": "display_data"
    },
    {
     "name": "stdout",
     "output_type": "stream",
     "text": [
      "0.62846694842 8.34416666667 1417.03525 0.626105410455\n"
     ]
    },
    {
     "data": {
      "image/png": "[encoded data removed]",
      "text/plain": [
       "<matplotlib.figure.Figure at 0x7fa24dc32290>"
      ]
     },
     "metadata": {},
     "output_type": "display_data"
    },
    {
     "name": "stdout",
     "output_type": "stream",
     "text": [
      "0.253009028797 12.803314675 2846.77199019 0.248859444532\n"
     ]
    }
   ],
   "source": [
    "try_reggressor(RandomForestRegressor())\n",
    "try_reggressor(LinearRegression())"
   ]
  }
 ],
 "metadata": {
  "kernelspec": {
   "display_name": "Python 2",
   "language": "python",
   "name": "python2"
  },
  "language_info": {
   "codemirror_mode": {
    "name": "ipython",
    "version": 2
   },
   "file_extension": ".py",
   "mimetype": "text/x-python",
   "name": "python",
   "nbconvert_exporter": "python",
   "pygments_lexer": "ipython2",
   "version": "2.7.10"
  }
 },
 "nbformat": 4,
 "nbformat_minor": 0
}
