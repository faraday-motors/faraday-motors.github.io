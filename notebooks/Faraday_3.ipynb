{
 "cells": [
  {
   "cell_type": "code",
   "execution_count": 35,
   "metadata": {
    "collapsed": false
   },
   "outputs": [],
   "source": [
    "%matplotlib inline\n",
    "\n",
    "import math\n",
    "\n",
    "import numpy as np\n",
    "import scipy as sp\n",
    "import pandas as pd\n",
    "\n",
    "from sklearn.linear_model import LinearRegression, LogisticRegression\n",
    "from sklearn.ensemble import RandomForestClassifier, RandomForestRegressor\n",
    "\n",
    "from sklearn.metrics import accuracy_score\n",
    "from sklearn.metrics import explained_variance_score\n",
    "from sklearn.metrics import mean_absolute_error\n",
    "from sklearn.metrics import mean_squared_error\n",
    "from sklearn.metrics import r2_score\n",
    "\n",
    "from sklearn.cross_validation import train_test_split\n",
    "\n",
    "\n",
    "import matplotlib.pyplot as plt\n"
   ]
  },
  {
   "cell_type": "code",
   "execution_count": 36,
   "metadata": {
    "collapsed": false
   },
   "outputs": [],
   "source": [
    "data = pd.read_csv('../nikhil/initial_data_urban_area.csv')"
   ]
  },
  {
   "cell_type": "code",
   "execution_count": 37,
   "metadata": {
    "collapsed": false
   },
   "outputs": [],
   "source": [
    "# list(data.columns.values)"
   ]
  },
  {
   "cell_type": "code",
   "execution_count": 38,
   "metadata": {
    "collapsed": false
   },
   "outputs": [
    {
     "name": "stdout",
     "output_type": "stream",
     "text": [
      "1010\n"
     ]
    }
   ],
   "source": [
    "df = data[data['StationCount']>0]\n",
    "# df = data\n",
    "print len(df)\n",
    "# df[\"rate\"] = df[\"Total\"]/df[\"count\"]\n",
    "# df = df.drop('UANUM', 1).drop('UANAME', 1).drop('UANAME_LONG', 1).drop('PeoplePerStation', 1).drop('StationsPerPerson', 1).drop('State', 1).drop('Geography', 1).drop('Latitude', 1).drop('Longitude', 1)\n",
    "df = df.dropna()\n",
    "# list(df.columns.values)"
   ]
  },
  {
   "cell_type": "code",
   "execution_count": 39,
   "metadata": {
    "collapsed": false
   },
   "outputs": [],
   "source": [
    "df['Total; Estimate; Population 18 to 24 years'] =df['Total; Estimate; Population 18 to 24 years']/df['Population']\n",
    "df['Male; Estimate; Population 18 to 24 years'] =df['Male; Estimate; Population 18 to 24 years']/df['Population']\n",
    "df['Female; Estimate; Population 18 to 24 years'] =df['Female; Estimate; Population 18 to 24 years']/df['Population']\n",
    "df['Total; Estimate; Population 25 years and over'] =df['Total; Estimate; Population 25 years and over']/df['Population']\n",
    "df['Male; Estimate; Population 25 years and over'] =df['Male; Estimate; Population 25 years and over']/df['Population']\n",
    "df['Female; Estimate; Population 25 years and over'] =df['Female; Estimate; Population 25 years and over']/df['Population']\n",
    "df['Total; Estimate; Population 25 to 34 years'] =df['Total; Estimate; Population 25 to 34 years']/df['Population']\n",
    "df['Male; Estimate; Population 25 to 34 years'] =df['Male; Estimate; Population 25 to 34 years']/df['Population']\n",
    "df['Female; Estimate; Population 25 to 34 years'] =df['Female; Estimate; Population 25 to 34 years']/df['Population']\n",
    "df['Total; Estimate; Population 35 to 44 years'] =df['Total; Estimate; Population 35 to 44 years']/df['Population']\n",
    "df['Male; Estimate; Population 35 to 44 years'] =df['Male; Estimate; Population 35 to 44 years']/df['Population']\n",
    "df['Female; Estimate; Population 35 to 44 years'] =df['Female; Estimate; Population 35 to 44 years']/df['Population']\n",
    "df['Total; Estimate; Population 45 to 64 years'] =df['Total; Estimate; Population 45 to 64 years']/df['Population']\n",
    "df['Male; Estimate; Population 45 to 64 years'] =df['Male; Estimate; Population 45 to 64 years']/df['Population']\n",
    "df['Female; Estimate; Population 45 to 64 years'] =df['Female; Estimate; Population 45 to 64 years']/df['Population']\n",
    "df['Total; Estimate; Population 65 years and over'] =df['Total; Estimate; Population 65 years and over']/df['Population']\n",
    "df['Male; Estimate; Population 65 years and over'] =df['Male; Estimate; Population 65 years and over']/df['Population']\n",
    "df['Female; Estimate; Population 65 years and over'] =df['Female; Estimate; Population 65 years and over']/df['Population']\n",
    "df['graduate_25+'] =df['graduate_25+']/df['Population']\n",
    "df = df.drop('Population', 1)"
   ]
  },
  {
   "cell_type": "code",
   "execution_count": 40,
   "metadata": {
    "collapsed": false
   },
   "outputs": [
    {
     "data": {
      "text/plain": [
       "StationCount                                                                           38.000000\n",
       "IncentivesCount                                                                         2.000000\n",
       "percent_own                                                                            63.551390\n",
       "Household Income Less than $10,000                                                  35272.000000\n",
       "Household Income $10,000 to $14,999                                                 24331.000000\n",
       "Household Income $15,000 to $19,999                                                 24913.000000\n",
       "Household Income $20,000 to $24,999                                                 22770.000000\n",
       "Household Income $25,000 to $29,999                                                 21265.000000\n",
       "Household Income $30,000 to $34,999                                                 20735.000000\n",
       "Household Income $35,000 to $39,999                                                 18516.000000\n",
       "Household Income $40,000 to $44,999                                                 17588.000000\n",
       "Household Income $45,000 to $49,999                                                 15928.000000\n",
       "Household Income $50,000 to $59,999                                                 32361.000000\n",
       "Household Income $60,000 to $74,999                                                 39018.000000\n",
       "Household Income $75,000 to $99,999                                                 47176.000000\n",
       "Household Income $100,000 to $124,999                                               29707.000000\n",
       "Household Income $125,000 to $149,999                                               16366.000000\n",
       "Household Income $150,000 to $199,999                                               14853.000000\n",
       "Household Income $200,000 or more                                                   11515.000000\n",
       "Total; Estimate; Population 18 to 24 years                                              0.107987\n",
       "Male; Estimate; Population 18 to 24 years                                               0.053962\n",
       "Female; Estimate; Population 18 to 24 years                                             0.054026\n",
       "Total; Estimate; Bachelor's degree or higher                                           14.300000\n",
       "Male; Estimate; Bachelor's degree or higher                                            11.300000\n",
       "Female; Estimate; Bachelor's degree or higher                                          17.200000\n",
       "Total; Estimate; Population 25 years and over                                           0.680582\n",
       "Male; Estimate; Population 25 years and over                                            0.316190\n",
       "Female; Estimate; Population 25 years and over                                          0.364392\n",
       "Total; Estimate; Population 25 years and over - Bachelor's degree                      16.600000\n",
       "Male; Estimate; Population 25 years and over - Bachelor's degree                       17.900000\n",
       "Female; Estimate; Population 25 years and over - Bachelor's degree                     15.500000\n",
       "Total; Estimate; Population 25 years and over - Graduate or professional degree        13.500000\n",
       "Male; Estimate; Population 25 years and over - Graduate or professional degree         13.300000\n",
       "Female; Estimate; Population 25 years and over - Graduate or professional degree       13.700000\n",
       "Total; Estimate; Population 25 to 34 years                                              0.125811\n",
       "Male; Estimate; Population 25 to 34 years                                               0.062360\n",
       "Female; Estimate; Population 25 to 34 years                                             0.063451\n",
       "Total; Estimate; Population 25 to 34 years - Bachelor's degree or higher               40.800000\n",
       "Male; Estimate; Population 25 to 34 years - Bachelor's degree or higher                37.500000\n",
       "Female; Estimate; Population 25 to 34 years - Bachelor's degree or higher              44.100000\n",
       "Total; Estimate; Population 35 to 44 years                                              0.117449\n",
       "Male; Estimate; Population 35 to 44 years                                               0.056978\n",
       "Female; Estimate; Population 35 to 44 years                                             0.060471\n",
       "Total; Estimate; Population 35 to 44 years - Bachelor's degree or higher               35.000000\n",
       "Male; Estimate; Population 35 to 44 years - Bachelor's degree or higher                32.900000\n",
       "Female; Estimate; Population 35 to 44 years - Bachelor's degree or higher              37.000000\n",
       "Total; Estimate; Population 45 to 64 years                                              0.276588\n",
       "Male; Estimate; Population 45 to 64 years                                               0.131992\n",
       "Female; Estimate; Population 45 to 64 years                                             0.144596\n",
       "Total; Estimate; Population 45 to 64 years - Bachelor's degree or higher               29.200000\n",
       "Male; Estimate; Population 45 to 64 years - Bachelor's degree or higher                30.100000\n",
       "Female; Estimate; Population 45 to 64 years - Bachelor's degree or higher              28.400000\n",
       "Total; Estimate; Population 65 years and over                                           0.160735\n",
       "Male; Estimate; Population 65 years and over                                            0.064860\n",
       "Female; Estimate; Population 65 years and over                                          0.095875\n",
       "Total; Estimate; Population 65 years and over - Bachelor's degree or higher            19.800000\n",
       "Male; Estimate; Population 65 years and over - Bachelor's degree or higher             26.000000\n",
       "Female; Estimate; Population 65 years and over - Bachelor's degree or higher           15.600000\n",
       "graduate_25+                                                                            0.091879\n",
       "Name: 416, dtype: float64"
      ]
     },
     "execution_count": 40,
     "metadata": {},
     "output_type": "execute_result"
    }
   ],
   "source": [
    "df = df.iloc[np.random.permutation(len(df))]\n",
    "df.reset_index(drop=True)\n",
    "# df\n",
    "# print \"\"\n",
    "df.iloc[0]"
   ]
  },
  {
   "cell_type": "code",
   "execution_count": 41,
   "metadata": {
    "collapsed": false,
    "scrolled": true
   },
   "outputs": [],
   "source": [
    "ndata = df.values\n",
    "ndata = np.hsplit(ndata, np.array([1]))\n",
    "Y = ndata[0]\n",
    "X = ndata[1]\n",
    "\n",
    "\n"
   ]
  },
  {
   "cell_type": "code",
   "execution_count": 42,
   "metadata": {
    "collapsed": false
   },
   "outputs": [
    {
     "name": "stdout",
     "output_type": "stream",
     "text": [
      "(753, 58) (753, 1)\n",
      "(251, 58) (251, 1)\n"
     ]
    }
   ],
   "source": [
    "train_X, dev_X, train_Y, dev_Y = train_test_split(X, Y, test_size=0.25, random_state=42)\n",
    "print train_X.shape, train_Y.shape\n",
    "print dev_X.shape, dev_Y.shape\n",
    "# print train_X\n",
    "# print train_Y"
   ]
  },
  {
   "cell_type": "code",
   "execution_count": 43,
   "metadata": {
    "collapsed": false,
    "scrolled": false
   },
   "outputs": [],
   "source": [
    "def try_reggressor(regressor) :\n",
    "\n",
    "#     print train_X.shape, train_Y.shape\n",
    "#     print dev_X.shape, dev_Y.shape\n",
    "\n",
    "    regressor.fit(train_X, train_Y)\n",
    "    dev_predictions = regressor.predict(dev_X)\n",
    "\n",
    "    plt.plot(dev_Y, dev_predictions, 'r.')\n",
    "    plt.show()\n",
    "\n",
    "    _explained_variance_score = explained_variance_score(dev_Y, dev_predictions)\n",
    "    _mean_absolute_error = mean_absolute_error(dev_Y, dev_predictions)\n",
    "    _mean_squared_error = mean_squared_error(dev_Y, dev_predictions)\n",
    "    _r2_score = r2_score(dev_Y, dev_predictions)\n",
    "    print _explained_variance_score, _mean_absolute_error, _mean_squared_error, _r2_score\n"
   ]
  },
  {
   "cell_type": "code",
   "execution_count": 44,
   "metadata": {
    "collapsed": false
   },
   "outputs": [
    {
     "data": {
      "image/png": "[encoded data removed]",
      "text/plain": [
       "<matplotlib.figure.Figure at 0x7f8e67efecd0>"
      ]
     },
     "metadata": {},
     "output_type": "display_data"
    },
    {
     "name": "stdout",
     "output_type": "stream",
     "text": [
      "0.910284786527 8.36378769375 312.926999809 0.909778563522\n"
     ]
    }
   ],
   "source": [
    "try_reggressor(LinearRegression())"
   ]
  },
  {
   "cell_type": "code",
   "execution_count": 45,
   "metadata": {
    "collapsed": false,
    "scrolled": false
   },
   "outputs": [
    {
     "name": "stderr",
     "output_type": "stream",
     "text": [
      "/opt/anaconda/envs/capstone/lib/python2.7/site-packages/IPython/kernel/__main__.py:6: DataConversionWarning: A column-vector y was passed when a 1d array was expected. Please change the shape of y to (n_samples,), for example using ravel().\n"
     ]
    },
    {
     "data": {
      "image/png": "[encoded data removed]",
      "text/plain": [
       "<matplotlib.figure.Figure at 0x7f8e6803ffd0>"
      ]
     },
     "metadata": {},
     "output_type": "display_data"
    },
    {
     "name": "stdout",
     "output_type": "stream",
     "text": [
      "0.505477707129 7.25378486056 1725.76824701 0.502435742619\n",
      "[  2.51163892e-03   5.25438876e-03   2.49865263e-04   7.38991760e-02\n",
      "   3.93194674e-04   1.48604662e-03   1.22906184e-03   1.45523308e-03\n",
      "   1.13837374e-04   9.84393139e-04   4.37171344e-05   8.73095625e-02\n",
      "   8.09498358e-02   8.87031630e-02   3.79530792e-02   2.08661299e-01\n",
      "   2.66590636e-01   2.75154779e-02   2.96236853e-03   9.92142680e-04\n",
      "   5.29783105e-03   9.39426356e-05   8.85714106e-04   2.55490936e-03\n",
      "   9.70222112e-04   1.80054283e-03   2.69510778e-03   8.66015931e-03\n",
      "   1.43269658e-03   1.13216762e-02   2.57463957e-03   6.26873478e-03\n",
      "   1.02027488e-03   1.82892355e-03   3.55538132e-04   1.05841203e-03\n",
      "   3.94138324e-04   1.18466159e-02   1.89157819e-04   1.48561042e-02\n",
      "   3.20411823e-04   1.52565150e-02   5.37422821e-05   2.92866046e-04\n",
      "   1.04079897e-03   2.61625272e-03   6.44496241e-04   3.78926369e-04\n",
      "   2.71119169e-04   7.28505762e-04   8.01545856e-04   1.05642999e-03\n",
      "   3.73355512e-03   7.40364395e-04   2.09993445e-03   3.64756665e-04\n",
      "   4.57578291e-04   3.77874196e-03]\n",
      "Feature ranking:\n",
      "1. (0.266591) Household Income $150,000 to $199,999 \n",
      "2. (0.208661) Household Income $125,000 to $149,999 \n",
      "3. (0.088703) Household Income $75,000 to $99,999 \n",
      "4. (0.087310) Household Income $50,000 to $59,999 \n",
      "5. (0.080950) Household Income $60,000 to $74,999 \n",
      "6. (0.073899) Household Income $10,000 to $14,999 \n",
      "7. (0.037953) Household Income $100,000 to $124,999 \n",
      "8. (0.027515) Household Income $200,000 or more \n",
      "9. (0.015257) Female; Estimate; Population 35 to 44 years \n",
      "10. (0.014856) Total; Estimate; Population 35 to 44 years \n",
      "11. (0.011847) Male; Estimate; Population 25 to 34 years - Bachelor's degree or higher \n",
      "12. (0.011322) Female; Estimate; Population 25 years and over - Bachelor's degree \n",
      "13. (0.008660) Total; Estimate; Population 25 years and over - Bachelor's degree \n",
      "14. (0.006269) Male; Estimate; Population 25 years and over - Graduate or professional degree \n",
      "15. (0.005298) Female; Estimate; Population 18 to 24 years \n",
      "16. (0.005254) percent_own \n",
      "17. (0.003779) graduate_25+ \n",
      "18. (0.003734) Male; Estimate; Population 65 years and over \n",
      "19. (0.002962) Total; Estimate; Population 18 to 24 years \n",
      "20. (0.002695) Female; Estimate; Population 25 years and over \n",
      "21. (0.002616) Total; Estimate; Population 45 to 64 years \n",
      "22. (0.002575) Total; Estimate; Population 25 years and over - Graduate or professional degree \n",
      "23. (0.002555) Female; Estimate; Bachelor's degree or higher \n",
      "24. (0.002512) IncentivesCount \n",
      "25. (0.002100) Total; Estimate; Population 65 years and over - Bachelor's degree or higher \n",
      "26. (0.001829) Total; Estimate; Population 25 to 34 years \n",
      "27. (0.001801) Male; Estimate; Population 25 years and over \n",
      "28. (0.001486) Household Income $20,000 to $24,999 \n",
      "29. (0.001455) Household Income $30,000 to $34,999 \n",
      "30. (0.001433) Male; Estimate; Population 25 years and over - Bachelor's degree \n",
      "31. (0.001229) Household Income $25,000 to $29,999 \n",
      "32. (0.001058) Female; Estimate; Population 25 to 34 years \n",
      "33. (0.001056) Total; Estimate; Population 65 years and over \n",
      "34. (0.001041) Female; Estimate; Population 35 to 44 years - Bachelor's degree or higher \n",
      "35. (0.001020) Female; Estimate; Population 25 years and over - Graduate or professional degree \n",
      "36. (0.000992) Male; Estimate; Population 18 to 24 years \n",
      "37. (0.000984) Household Income $40,000 to $44,999 \n",
      "38. (0.000970) Total; Estimate; Population 25 years and over \n",
      "39. (0.000886) Male; Estimate; Bachelor's degree or higher \n",
      "40. (0.000802) Female; Estimate; Population 45 to 64 years - Bachelor's degree or higher \n",
      "41. (0.000740) Female; Estimate; Population 65 years and over \n",
      "42. (0.000729) Male; Estimate; Population 45 to 64 years - Bachelor's degree or higher \n",
      "43. (0.000644) Male; Estimate; Population 45 to 64 years \n",
      "44. (0.000458) Female; Estimate; Population 65 years and over - Bachelor's degree or higher \n",
      "45. (0.000394) Total; Estimate; Population 25 to 34 years - Bachelor's degree or higher \n",
      "46. (0.000393) Household Income $15,000 to $19,999 \n",
      "47. (0.000379) Female; Estimate; Population 45 to 64 years \n",
      "48. (0.000365) Male; Estimate; Population 65 years and over - Bachelor's degree or higher \n",
      "49. (0.000356) Male; Estimate; Population 25 to 34 years \n",
      "50. (0.000320) Male; Estimate; Population 35 to 44 years \n",
      "51. (0.000293) Male; Estimate; Population 35 to 44 years - Bachelor's degree or higher \n",
      "52. (0.000271) Total; Estimate; Population 45 to 64 years - Bachelor's degree or higher \n",
      "53. (0.000250) Household Income Less than $10,000 \n",
      "54. (0.000189) Female; Estimate; Population 25 to 34 years - Bachelor's degree or higher \n",
      "55. (0.000114) Household Income $35,000 to $39,999 \n",
      "56. (0.000094) Total; Estimate; Bachelor's degree or higher \n",
      "57. (0.000054) Total; Estimate; Population 35 to 44 years - Bachelor's degree or higher \n",
      "58. (0.000044) Household Income $45,000 to $49,999 \n"
     ]
    },
    {
     "data": {
      "image/png": "[encoded data removed]",
      "text/plain": [
       "<matplotlib.figure.Figure at 0x7f8e682c09d0>"
      ]
     },
     "metadata": {},
     "output_type": "display_data"
    }
   ],
   "source": [
    "forest = RandomForestRegressor()\n",
    "try_reggressor(forest)\n",
    "print forest.feature_importances_\n",
    "\n",
    "importances = forest.feature_importances_\n",
    "std = np.std([tree.feature_importances_ for tree in forest.estimators_],\n",
    "             axis=0)\n",
    "indices = np.argsort(importances)[::-1]\n",
    "\n",
    "# Print the feature ranking\n",
    "print(\"Feature ranking:\")\n",
    "\n",
    "cols = train_X.shape[1]\n",
    "for f in range(cols):\n",
    "    print(\"%d. (%f) %s \" % (f + 1, importances[indices[f]], df.columns[indices[f]+1]))\n",
    "\n",
    "# Plot the feature importances of the forest\n",
    "plt.figure()\n",
    "plt.title(\"Feature importances\")\n",
    "plt.bar(range(cols), importances[indices],\n",
    "       color=\"r\", yerr=std[indices], align=\"center\")\n",
    "plt.xticks(range(cols), indices)\n",
    "plt.xlim([-1, 10])\n",
    "plt.show()"
   ]
  },
  {
   "cell_type": "code",
   "execution_count": 46,
   "metadata": {
    "collapsed": false
   },
   "outputs": [
    {
     "name": "stderr",
     "output_type": "stream",
     "text": [
      "/opt/anaconda/envs/capstone/lib/python2.7/site-packages/IPython/kernel/__main__.py:6: DataConversionWarning: A column-vector y was passed when a 1d array was expected. Please change the shape of y to (n_samples,), for example using ravel().\n"
     ]
    },
    {
     "data": {
      "image/png": "[encoded data removed]",
      "text/plain": [
       "<matplotlib.figure.Figure at 0x7f8e681c9bd0>"
      ]
     },
     "metadata": {},
     "output_type": "display_data"
    },
    {
     "name": "stdout",
     "output_type": "stream",
     "text": [
      "0.596297443218 7.38804780876 1409.16749004 0.593716377085\n"
     ]
    },
    {
     "data": {
      "image/png": "[encoded data removed]",
      "text/plain": [
       "<matplotlib.figure.Figure at 0x7f8e681c9210>"
      ]
     },
     "metadata": {},
     "output_type": "display_data"
    },
    {
     "name": "stdout",
     "output_type": "stream",
     "text": [
      "0.910284786527 8.36378769375 312.926999809 0.909778563522\n"
     ]
    }
   ],
   "source": [
    "try_reggressor(RandomForestRegressor())\n",
    "try_reggressor(LinearRegression())"
   ]
  }
 ],
 "metadata": {
  "kernelspec": {
   "display_name": "Python 2",
   "language": "python",
   "name": "python2"
  },
  "language_info": {
   "codemirror_mode": {
    "name": "ipython",
    "version": 2
   },
   "file_extension": ".py",
   "mimetype": "text/x-python",
   "name": "python",
   "nbconvert_exporter": "python",
   "pygments_lexer": "ipython2",
   "version": "2.7.10"
  }
 },
 "nbformat": 4,
 "nbformat_minor": 0
}
