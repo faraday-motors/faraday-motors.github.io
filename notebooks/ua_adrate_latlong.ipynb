{
 "cells": [
  {
   "cell_type": "code",
   "execution_count": 1,
   "metadata": {
    "collapsed": true
   },
   "outputs": [],
   "source": [
    "import pandas as pd\n",
    "import numpy as np"
   ]
  },
  {
   "cell_type": "code",
   "execution_count": 7,
   "metadata": {
    "collapsed": false
   },
   "outputs": [
    {
     "data": {
      "text/html": [
       "<div style=\"max-height:1000px;max-width:1500px;overflow:auto;\">\n",
       "<table border=\"1\" class=\"dataframe\">\n",
       "  <thead>\n",
       "    <tr style=\"text-align: right;\">\n",
       "      <th></th>\n",
       "      <th>UANUM</th>\n",
       "      <th>Latitude</th>\n",
       "      <th>Longitude</th>\n",
       "    </tr>\n",
       "  </thead>\n",
       "  <tbody>\n",
       "    <tr>\n",
       "      <th>0</th>\n",
       "      <td>  37</td>\n",
       "      <td> 29.974444</td>\n",
       "      <td>-92.134167</td>\n",
       "    </tr>\n",
       "    <tr>\n",
       "      <th>1</th>\n",
       "      <td>  64</td>\n",
       "      <td> 34.178056</td>\n",
       "      <td>-82.379167</td>\n",
       "    </tr>\n",
       "    <tr>\n",
       "      <th>2</th>\n",
       "      <td>  91</td>\n",
       "      <td> 44.946389</td>\n",
       "      <td>-90.315833</td>\n",
       "    </tr>\n",
       "    <tr>\n",
       "      <th>3</th>\n",
       "      <td> 199</td>\n",
       "      <td> 39.519347</td>\n",
       "      <td>-76.185598</td>\n",
       "    </tr>\n",
       "    <tr>\n",
       "      <th>4</th>\n",
       "      <td> 118</td>\n",
       "      <td> 33.825000</td>\n",
       "      <td>-88.543611</td>\n",
       "    </tr>\n",
       "  </tbody>\n",
       "</table>\n",
       "</div>"
      ],
      "text/plain": [
       "   UANUM   Latitude  Longitude\n",
       "0     37  29.974444 -92.134167\n",
       "1     64  34.178056 -82.379167\n",
       "2     91  44.946389 -90.315833\n",
       "3    199  39.519347 -76.185598\n",
       "4    118  33.825000 -88.543611"
      ]
     },
     "execution_count": 7,
     "metadata": {},
     "output_type": "execute_result"
    }
   ],
   "source": [
    "latlong = pd.read_csv('../data/initial_data_urban_area.csv')\n",
    "latlong = latlong[['UANUM','Latitude','Longitude']]\n",
    "latlong.head()"
   ]
  },
  {
   "cell_type": "code",
   "execution_count": 8,
   "metadata": {
    "collapsed": false
   },
   "outputs": [
    {
     "data": {
      "text/html": [
       "<div style=\"max-height:1000px;max-width:1500px;overflow:auto;\">\n",
       "<table border=\"1\" class=\"dataframe\">\n",
       "  <thead>\n",
       "    <tr style=\"text-align: right;\">\n",
       "      <th></th>\n",
       "      <th>UANUM</th>\n",
       "      <th>UANAME</th>\n",
       "      <th>4 Week Rate</th>\n",
       "    </tr>\n",
       "  </thead>\n",
       "  <tbody>\n",
       "    <tr>\n",
       "      <th>0</th>\n",
       "      <td>  37</td>\n",
       "      <td>                              Abbeville, LA</td>\n",
       "      <td>  16190.000000</td>\n",
       "    </tr>\n",
       "    <tr>\n",
       "      <th>1</th>\n",
       "      <td>  64</td>\n",
       "      <td>                              Abbeville, SC</td>\n",
       "      <td>   2625.000000</td>\n",
       "    </tr>\n",
       "    <tr>\n",
       "      <th>2</th>\n",
       "      <td>  91</td>\n",
       "      <td>                             Abbotsford, WI</td>\n",
       "      <td>   1852.142857</td>\n",
       "    </tr>\n",
       "    <tr>\n",
       "      <th>3</th>\n",
       "      <td> 199</td>\n",
       "      <td> Aberdeen--Bel Air South--Bel Air North, MD</td>\n",
       "      <td> 122361.312500</td>\n",
       "    </tr>\n",
       "    <tr>\n",
       "      <th>4</th>\n",
       "      <td> 118</td>\n",
       "      <td>                               Aberdeen, MS</td>\n",
       "      <td>   4601.500000</td>\n",
       "    </tr>\n",
       "  </tbody>\n",
       "</table>\n",
       "</div>"
      ],
      "text/plain": [
       "   UANUM                                      UANAME    4 Week Rate\n",
       "0     37                               Abbeville, LA   16190.000000\n",
       "1     64                               Abbeville, SC    2625.000000\n",
       "2     91                              Abbotsford, WI    1852.142857\n",
       "3    199  Aberdeen--Bel Air South--Bel Air North, MD  122361.312500\n",
       "4    118                                Aberdeen, MS    4601.500000"
      ]
     },
     "execution_count": 8,
     "metadata": {},
     "output_type": "execute_result"
    }
   ],
   "source": [
    "ad = pd.read_csv('../data/urban_rates.csv')\n",
    "ad.head()"
   ]
  },
  {
   "cell_type": "code",
   "execution_count": 6,
   "metadata": {
    "collapsed": false
   },
   "outputs": [
    {
     "name": "stdout",
     "output_type": "stream",
     "text": [
      "3592\n",
      "3592\n"
     ]
    }
   ],
   "source": [
    "print len(latlong)\n",
    "print len(ad)"
   ]
  },
  {
   "cell_type": "code",
   "execution_count": 9,
   "metadata": {
    "collapsed": false
   },
   "outputs": [
    {
     "data": {
      "text/html": [
       "<div style=\"max-height:1000px;max-width:1500px;overflow:auto;\">\n",
       "<table border=\"1\" class=\"dataframe\">\n",
       "  <thead>\n",
       "    <tr style=\"text-align: right;\">\n",
       "      <th></th>\n",
       "      <th>UANUM</th>\n",
       "      <th>UANAME</th>\n",
       "      <th>4 Week Rate</th>\n",
       "      <th>Latitude</th>\n",
       "      <th>Longitude</th>\n",
       "    </tr>\n",
       "  </thead>\n",
       "  <tbody>\n",
       "    <tr>\n",
       "      <th>0</th>\n",
       "      <td>  37</td>\n",
       "      <td>                              Abbeville, LA</td>\n",
       "      <td>  16190.000000</td>\n",
       "      <td> 29.974444</td>\n",
       "      <td>-92.134167</td>\n",
       "    </tr>\n",
       "    <tr>\n",
       "      <th>1</th>\n",
       "      <td>  64</td>\n",
       "      <td>                              Abbeville, SC</td>\n",
       "      <td>   2625.000000</td>\n",
       "      <td> 34.178056</td>\n",
       "      <td>-82.379167</td>\n",
       "    </tr>\n",
       "    <tr>\n",
       "      <th>2</th>\n",
       "      <td>  91</td>\n",
       "      <td>                             Abbotsford, WI</td>\n",
       "      <td>   1852.142857</td>\n",
       "      <td> 44.946389</td>\n",
       "      <td>-90.315833</td>\n",
       "    </tr>\n",
       "    <tr>\n",
       "      <th>3</th>\n",
       "      <td> 199</td>\n",
       "      <td> Aberdeen--Bel Air South--Bel Air North, MD</td>\n",
       "      <td> 122361.312500</td>\n",
       "      <td> 39.519347</td>\n",
       "      <td>-76.185598</td>\n",
       "    </tr>\n",
       "    <tr>\n",
       "      <th>4</th>\n",
       "      <td> 118</td>\n",
       "      <td>                               Aberdeen, MS</td>\n",
       "      <td>   4601.500000</td>\n",
       "      <td> 33.825000</td>\n",
       "      <td>-88.543611</td>\n",
       "    </tr>\n",
       "  </tbody>\n",
       "</table>\n",
       "</div>"
      ],
      "text/plain": [
       "   UANUM                                      UANAME    4 Week Rate  \\\n",
       "0     37                               Abbeville, LA   16190.000000   \n",
       "1     64                               Abbeville, SC    2625.000000   \n",
       "2     91                              Abbotsford, WI    1852.142857   \n",
       "3    199  Aberdeen--Bel Air South--Bel Air North, MD  122361.312500   \n",
       "4    118                                Aberdeen, MS    4601.500000   \n",
       "\n",
       "    Latitude  Longitude  \n",
       "0  29.974444 -92.134167  \n",
       "1  34.178056 -82.379167  \n",
       "2  44.946389 -90.315833  \n",
       "3  39.519347 -76.185598  \n",
       "4  33.825000 -88.543611  "
      ]
     },
     "execution_count": 9,
     "metadata": {},
     "output_type": "execute_result"
    }
   ],
   "source": [
    "df = pd.merge(ad,latlong,on='UANUM',how='inner')\n",
    "df.head()"
   ]
  },
  {
   "cell_type": "code",
   "execution_count": 10,
   "metadata": {
    "collapsed": false
   },
   "outputs": [
    {
     "data": {
      "text/plain": [
       "3592"
      ]
     },
     "execution_count": 10,
     "metadata": {},
     "output_type": "execute_result"
    }
   ],
   "source": [
    "len(df)"
   ]
  },
  {
   "cell_type": "code",
   "execution_count": 12,
   "metadata": {
    "collapsed": true
   },
   "outputs": [],
   "source": [
    "df.to_csv('../data/ua_adrate_latlong.csv',index=False)"
   ]
  },
  {
   "cell_type": "code",
   "execution_count": 23,
   "metadata": {
    "collapsed": false
   },
   "outputs": [
    {
     "data": {
      "text/html": [
       "<div style=\"max-height:1000px;max-width:1500px;overflow:auto;\">\n",
       "<table border=\"1\" class=\"dataframe\">\n",
       "  <thead>\n",
       "    <tr style=\"text-align: right;\">\n",
       "      <th></th>\n",
       "      <th>UANUM</th>\n",
       "      <th>PredictedStationCount</th>\n",
       "      <th>DiffPredictActual</th>\n",
       "      <th>PredictedPeoplePerStation</th>\n",
       "      <th>Population</th>\n",
       "      <th>PredictedStationsPerHousehold</th>\n",
       "    </tr>\n",
       "  </thead>\n",
       "  <tbody>\n",
       "    <tr>\n",
       "      <th>0</th>\n",
       "      <td> 63217</td>\n",
       "      <td> 442.02</td>\n",
       "      <td>  40.02</td>\n",
       "      <td> 0.099305</td>\n",
       "      <td> 18351295</td>\n",
       "      <td> 0.000067</td>\n",
       "    </tr>\n",
       "    <tr>\n",
       "      <th>1</th>\n",
       "      <td> 51445</td>\n",
       "      <td> 619.76</td>\n",
       "      <td>-215.24</td>\n",
       "      <td>-0.257464</td>\n",
       "      <td> 12150996</td>\n",
       "      <td> 0.000156</td>\n",
       "    </tr>\n",
       "    <tr>\n",
       "      <th>2</th>\n",
       "      <td> 16264</td>\n",
       "      <td> 305.90</td>\n",
       "      <td> -42.10</td>\n",
       "      <td>-0.120630</td>\n",
       "      <td>  8608208</td>\n",
       "      <td> 0.000098</td>\n",
       "    </tr>\n",
       "    <tr>\n",
       "      <th>3</th>\n",
       "      <td> 56602</td>\n",
       "      <td> 262.40</td>\n",
       "      <td> 113.40</td>\n",
       "      <td> 0.756000</td>\n",
       "      <td>  5502379</td>\n",
       "      <td> 0.000131</td>\n",
       "    </tr>\n",
       "    <tr>\n",
       "      <th>4</th>\n",
       "      <td> 69076</td>\n",
       "      <td> 182.50</td>\n",
       "      <td>  19.50</td>\n",
       "      <td> 0.118902</td>\n",
       "      <td>  5441567</td>\n",
       "      <td> 0.000090</td>\n",
       "    </tr>\n",
       "  </tbody>\n",
       "</table>\n",
       "</div>"
      ],
      "text/plain": [
       "   UANUM  PredictedStationCount  DiffPredictActual  PredictedPeoplePerStation  \\\n",
       "0  63217                 442.02              40.02                   0.099305   \n",
       "1  51445                 619.76            -215.24                  -0.257464   \n",
       "2  16264                 305.90             -42.10                  -0.120630   \n",
       "3  56602                 262.40             113.40                   0.756000   \n",
       "4  69076                 182.50              19.50                   0.118902   \n",
       "\n",
       "   Population  PredictedStationsPerHousehold  \n",
       "0    18351295                       0.000067  \n",
       "1    12150996                       0.000156  \n",
       "2     8608208                       0.000098  \n",
       "3     5502379                       0.000131  \n",
       "4     5441567                       0.000090  "
      ]
     },
     "execution_count": 23,
     "metadata": {},
     "output_type": "execute_result"
    }
   ],
   "source": [
    "model = pd.read_csv('../data/merged_model_predicted_10_covariates_diff_count_peopleperstation_and_initial_urban_data.csv')\n",
    "model['PredictedStationsPerHousehold'] = 1.*model.PredictedStationCount/model.Households\n",
    "model = model[['UANUM','PredictedStationCount','DiffPredictActual','PredictedPeoplePerStation','Population','PredictedStationsPerHousehold']]\n",
    "model.head()"
   ]
  },
  {
   "cell_type": "code",
   "execution_count": 24,
   "metadata": {
    "collapsed": false
   },
   "outputs": [
    {
     "data": {
      "text/plain": [
       "3590"
      ]
     },
     "execution_count": 24,
     "metadata": {},
     "output_type": "execute_result"
    }
   ],
   "source": [
    "len(model)"
   ]
  },
  {
   "cell_type": "code",
   "execution_count": 25,
   "metadata": {
    "collapsed": false
   },
   "outputs": [
    {
     "data": {
      "text/html": [
       "<div style=\"max-height:1000px;max-width:1500px;overflow:auto;\">\n",
       "<table border=\"1\" class=\"dataframe\">\n",
       "  <thead>\n",
       "    <tr style=\"text-align: right;\">\n",
       "      <th></th>\n",
       "      <th>UANUM</th>\n",
       "      <th>UANAME</th>\n",
       "      <th>4 Week Rate</th>\n",
       "      <th>Latitude</th>\n",
       "      <th>Longitude</th>\n",
       "      <th>PredictedStationCount</th>\n",
       "      <th>DiffPredictActual</th>\n",
       "      <th>PredictedPeoplePerStation</th>\n",
       "      <th>Population</th>\n",
       "      <th>PredictedStationsPerHousehold</th>\n",
       "    </tr>\n",
       "  </thead>\n",
       "  <tbody>\n",
       "    <tr>\n",
       "      <th>0</th>\n",
       "      <td>  37</td>\n",
       "      <td>                              Abbeville, LA</td>\n",
       "      <td>  16190.000000</td>\n",
       "      <td> 29.974444</td>\n",
       "      <td>-92.134167</td>\n",
       "      <td>  0.68</td>\n",
       "      <td> 0.68</td>\n",
       "      <td> 0.680000</td>\n",
       "      <td>  19824</td>\n",
       "      <td> 0.000090</td>\n",
       "    </tr>\n",
       "    <tr>\n",
       "      <th>1</th>\n",
       "      <td>  64</td>\n",
       "      <td>                              Abbeville, SC</td>\n",
       "      <td>   2625.000000</td>\n",
       "      <td> 34.178056</td>\n",
       "      <td>-82.379167</td>\n",
       "      <td>  0.00</td>\n",
       "      <td> 0.00</td>\n",
       "      <td> 0.000000</td>\n",
       "      <td>   5243</td>\n",
       "      <td> 0.000000</td>\n",
       "    </tr>\n",
       "    <tr>\n",
       "      <th>2</th>\n",
       "      <td>  91</td>\n",
       "      <td>                             Abbotsford, WI</td>\n",
       "      <td>   1852.142857</td>\n",
       "      <td> 44.946389</td>\n",
       "      <td>-90.315833</td>\n",
       "      <td>  0.00</td>\n",
       "      <td> 0.00</td>\n",
       "      <td> 0.000000</td>\n",
       "      <td>   3966</td>\n",
       "      <td> 0.000000</td>\n",
       "    </tr>\n",
       "    <tr>\n",
       "      <th>3</th>\n",
       "      <td> 199</td>\n",
       "      <td> Aberdeen--Bel Air South--Bel Air North, MD</td>\n",
       "      <td> 122361.312500</td>\n",
       "      <td> 39.519347</td>\n",
       "      <td>-76.185598</td>\n",
       "      <td> 12.34</td>\n",
       "      <td> 0.34</td>\n",
       "      <td> 0.026154</td>\n",
       "      <td> 213751</td>\n",
       "      <td> 0.000155</td>\n",
       "    </tr>\n",
       "    <tr>\n",
       "      <th>4</th>\n",
       "      <td> 118</td>\n",
       "      <td>                               Aberdeen, MS</td>\n",
       "      <td>   4601.500000</td>\n",
       "      <td> 33.825000</td>\n",
       "      <td>-88.543611</td>\n",
       "      <td>  0.04</td>\n",
       "      <td> 0.04</td>\n",
       "      <td> 0.040000</td>\n",
       "      <td>   4666</td>\n",
       "      <td> 0.000022</td>\n",
       "    </tr>\n",
       "  </tbody>\n",
       "</table>\n",
       "</div>"
      ],
      "text/plain": [
       "   UANUM                                      UANAME    4 Week Rate  \\\n",
       "0     37                               Abbeville, LA   16190.000000   \n",
       "1     64                               Abbeville, SC    2625.000000   \n",
       "2     91                              Abbotsford, WI    1852.142857   \n",
       "3    199  Aberdeen--Bel Air South--Bel Air North, MD  122361.312500   \n",
       "4    118                                Aberdeen, MS    4601.500000   \n",
       "\n",
       "    Latitude  Longitude  PredictedStationCount  DiffPredictActual  \\\n",
       "0  29.974444 -92.134167                   0.68               0.68   \n",
       "1  34.178056 -82.379167                   0.00               0.00   \n",
       "2  44.946389 -90.315833                   0.00               0.00   \n",
       "3  39.519347 -76.185598                  12.34               0.34   \n",
       "4  33.825000 -88.543611                   0.04               0.04   \n",
       "\n",
       "   PredictedPeoplePerStation  Population  PredictedStationsPerHousehold  \n",
       "0                   0.680000       19824                       0.000090  \n",
       "1                   0.000000        5243                       0.000000  \n",
       "2                   0.000000        3966                       0.000000  \n",
       "3                   0.026154      213751                       0.000155  \n",
       "4                   0.040000        4666                       0.000022  "
      ]
     },
     "execution_count": 25,
     "metadata": {},
     "output_type": "execute_result"
    }
   ],
   "source": [
    "df2 = pd.merge(df,model,on='UANUM',how='inner')\n",
    "df2.head()"
   ]
  },
  {
   "cell_type": "code",
   "execution_count": 19,
   "metadata": {
    "collapsed": false
   },
   "outputs": [
    {
     "data": {
      "text/plain": [
       "3590"
      ]
     },
     "execution_count": 19,
     "metadata": {},
     "output_type": "execute_result"
    }
   ],
   "source": [
    "len(df2)"
   ]
  },
  {
   "cell_type": "code",
   "execution_count": 26,
   "metadata": {
    "collapsed": true
   },
   "outputs": [],
   "source": [
    "df2.to_csv('../data/ua_adrate_latlong_predictedmodel.csv',index=False)"
   ]
  },
  {
   "cell_type": "code",
   "execution_count": null,
   "metadata": {
    "collapsed": true
   },
   "outputs": [],
   "source": []
  }
 ],
 "metadata": {
  "kernelspec": {
   "display_name": "Python 2",
   "language": "python",
   "name": "python2"
  },
  "language_info": {
   "codemirror_mode": {
    "name": "ipython",
    "version": 2
   },
   "file_extension": ".py",
   "mimetype": "text/x-python",
   "name": "python",
   "nbconvert_exporter": "python",
   "pygments_lexer": "ipython2",
   "version": "2.7.9"
  }
 },
 "nbformat": 4,
 "nbformat_minor": 0
}
