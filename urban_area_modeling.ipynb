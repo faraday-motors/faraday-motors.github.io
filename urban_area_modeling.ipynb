{
 "cells": [
  {
   "cell_type": "code",
   "execution_count": 1,
   "metadata": {
    "collapsed": false
   },
   "outputs": [],
   "source": [
    "%matplotlib inline\n",
    "\n",
    "import numpy as np\n",
    "import matplotlib.pyplot as plt\n",
    "from sklearn import metrics\n",
    "from sklearn.naive_bayes import MultinomialNB\n",
    "from sklearn.linear_model import LogisticRegression\n",
    "from sklearn.naive_bayes import BernoulliNB\n",
    "from sklearn.grid_search import GridSearchCV\n",
    "from sklearn.feature_extraction.text import *\n",
    "from sklearn.ensemble import RandomForestClassifier, RandomForestRegressor\n",
    "from sklearn.metrics import accuracy_score\n",
    "from sklearn.metrics import explained_variance_score\n",
    "from sklearn.metrics import mean_absolute_error\n",
    "from sklearn.metrics import mean_squared_error\n",
    "from sklearn.metrics import r2_score\n",
    "import csv\n"
   ]
  },
  {
   "cell_type": "markdown",
   "metadata": {},
   "source": [
    "Load merged data file with charging stations and ACS data aggregated by urban areas. Use raw count of stations as the labels (for now) and picked 10 attributes for modeling.Preprocessed the data into a csv file."
   ]
  },
  {
   "cell_type": "code",
   "execution_count": 2,
   "metadata": {
    "collapsed": false
   },
   "outputs": [
    {
     "name": "stdout",
     "output_type": "stream",
     "text": [
      "(3590,) (3590, 10) 3590 [  0.00000000e+00   4.66600000e+03   1.79500000e+03   6.40668524e+01\n",
      "   3.70000000e+01   1.60000000e+01   6.20000000e+00   6.40000000e+00\n",
      "   1.51000000e+01   2.29230000e+04] 0.0\n",
      "(3590,) (3590, 10) 3590 [  0.00000000e+00   1.65310000e+04   6.22000000e+03   6.48070740e+01\n",
      "   9.80000000e+01   5.90000000e+01   1.20000000e+00   6.10000000e+00\n",
      "   1.54000000e+01   2.80610000e+04] 0.0\n",
      "float64 float64\n",
      "3590 2692\n",
      "(2692, 10) (2692,)\n",
      "(898, 10) (898,)\n",
      "[  1.00000000e+00   1.08350000e+04   4.37900000e+03   5.04224709e+01\n",
      "   4.20000000e+01   1.02000000e+02   4.70000000e+00   8.80000000e+00\n",
      "   1.93000000e+01   3.17510000e+04] 0.0\n",
      "[  1.00000000e+00   5.19600000e+03   1.93300000e+03   5.91826177e+01\n",
      "   1.80000000e+01   1.30000000e+01   3.00000000e-01   6.10000000e+00\n",
      "   1.40000000e+01   2.05180000e+04] 0.0\n",
      "['Incentive', 'Population', 'Households', '% Owning Homes', 'Households $150-200K', 'Households >$200K', 'Total College Grads', 'Total Graduate Degree', '% College Grads', 'Median Income']\n"
     ]
    }
   ],
   "source": [
    "#import the processed urban area charging stations and ACS data\n",
    "# to do: use imputer to handle missing vaules in scikit\n",
    "# http://stackoverflow.com/questions/30317119/classifiers-in-scikit-learn-that-handle-nan-null?lq=1\n",
    "\n",
    "#load urban area data\n",
    "# input vectors for now, we use incentive, population, household, %owning houses, ...\n",
    "X = np.loadtxt(\"data/parsed_urban_area_data_10.csv\",delimiter = ',',usecols = (1,2,3,4,5,6,7,8,9,10)) \n",
    "#X = np.loadtxt(\"data/parsed_urban_area_data.csv\",delimiter = ',',usecols = (1,3,4,5,6,7,8,9,10))\n",
    "# Above line of code removes population and reran all the models. e.g., LinReg: score went up from 0.71 to 0.77\n",
    "# The results were stable and robust so more confident to stick with raw station count as outcome variable\n",
    "# labels. For now, we use station count\n",
    "Y = np.loadtxt(\"data/parsed_urban_area_data_10.csv\",delimiter = ',',usecols = (0,),dtype=float)  \n",
    "# feature names\n",
    "feaname = [\"Incentive\",\"Population\",\"Households\",\"% Owning Homes\",\n",
    "          \"Households $150-200K\",\"Households >$200K\", \"Total College Grads\",\n",
    "          \"Total Graduate Degree\",\"% College Grads\",\"Median Income\"] # feature names of the selected attributes\n",
    "\n",
    "# checking input data and labels\n",
    "print Y.shape, X.shape, len(X), X[4], Y[4]\n",
    "\n",
    "# add shuffle code before splitting the data into train and dev sets\n",
    "# easiest shuffle utility is sklearn shuffle function\n",
    "from sklearn.utils import shuffle\n",
    "\n",
    "# shuffle two arrays in unison\n",
    "X, Y = shuffle(X, Y, random_state=0)\n",
    "print Y.shape, X.shape, len(X), X[4], Y[4]\n",
    "# double check the data type of the two arrays\n",
    "print X.dtype, Y.dtype\n",
    "\n",
    "# Split the imported data into training 75% and development data 25%\n",
    "\n",
    "split = 3*len(X)/4\n",
    "\n",
    "print len(X), split\n",
    "\n",
    "train_data, train_labels = X[:split], Y[:split]\n",
    "dev_data, dev_labels = X[split:], Y[split:]\n",
    "\n",
    "print train_data.shape, train_labels.shape\n",
    "print dev_data.shape, dev_labels.shape\n",
    "print train_data[1], train_labels[1]\n",
    "print dev_data[0], dev_labels[0]\n",
    "# dev_dat=np.array(dev_data)\n",
    "# print dev_dat.sum()\n",
    "print feaname"
   ]
  },
  {
   "cell_type": "code",
   "execution_count": 2,
   "metadata": {
    "collapsed": false
   },
   "outputs": [
    {
     "name": "stdout",
     "output_type": "stream",
     "text": [
      "(3590,) (3590, 25) 3590 [  0.00000000e+00   4.66600000e+03   1.79500000e+03   6.40668524e+01\n",
      "   1.77000000e+02   7.10000000e+01   7.30000000e+01   7.00000000e+01\n",
      "   8.00000000e+00   3.70000000e+01   1.60000000e+01   6.20000000e+00\n",
      "   6.40000000e+00   1.51000000e+01   4.86000000e+02   3.48000000e+02\n",
      "   4.29000000e+02   1.96000000e+02   5.57000000e+02   3.34000000e+02\n",
      "   1.31500000e+03   7.29000000e+02   7.74000000e+02   4.81000000e+02\n",
      "   2.29230000e+04] 0.0\n",
      "(3590,) (3590, 25) 3590 [  0.00000000e+00   1.65310000e+04   6.22000000e+03   6.48070740e+01\n",
      "   4.59000000e+02   7.82000000e+02   7.37000000e+02   2.80000000e+02\n",
      "   1.50000000e+02   9.80000000e+01   5.90000000e+01   1.20000000e+00\n",
      "   6.10000000e+00   1.54000000e+01   2.05800000e+03   1.00600000e+03\n",
      "   2.81300000e+03   1.17100000e+03   1.88400000e+03   8.97000000e+02\n",
      "   3.47800000e+03   1.81400000e+03   1.84700000e+03   1.05600000e+03\n",
      "   2.80610000e+04] 0.0\n",
      "float64 float64\n",
      "3590 2692\n",
      "(2692, 25) (2692,)\n",
      "(898, 25) (898,)\n",
      "[  1.00000000e+00   1.08350000e+04   4.37900000e+03   5.04224709e+01\n",
      "   3.20000000e+02   4.05000000e+02   5.57000000e+02   1.66000000e+02\n",
      "   1.10000000e+02   4.20000000e+01   1.02000000e+02   4.70000000e+00\n",
      "   8.80000000e+00   1.93000000e+01   1.04700000e+03   4.76000000e+02\n",
      "   1.38300000e+03   6.41000000e+02   1.38300000e+03   6.63000000e+02\n",
      "   3.12800000e+03   1.72800000e+03   1.56400000e+03   9.92000000e+02\n",
      "   3.17510000e+04] 0.0\n",
      "[  1.00000000e+00   5.19600000e+03   1.93300000e+03   5.91826177e+01\n",
      "   1.50000000e+02   9.90000000e+01   1.35000000e+02   5.40000000e+01\n",
      "   1.90000000e+01   1.80000000e+01   1.30000000e+01   3.00000000e-01\n",
      "   6.10000000e+00   1.40000000e+01   9.46000000e+02   5.15000000e+02\n",
      "   7.13000000e+02   3.12000000e+02   4.26000000e+02   2.45000000e+02\n",
      "   1.16900000e+03   6.97000000e+02   1.02800000e+03   7.15000000e+02\n",
      "   2.05180000e+04] 0.0\n",
      "['Incentive', 'Population', 'Households', '% Owning Homes', 'Households $50-60K', 'Households $60-75K', 'Households $75-100K', 'Households $100-124K', 'Households $125-150K', 'Households $150-200K', 'Households >$200K', 'Total College Grads', 'Total Graduate Degree', '% College Grads', 'Pop 18-24', 'Female 18-24', 'Pop 25-34', 'Female 25-34', 'Pop 35-44', 'Female 35-44', 'Pop 45-64', 'Female 45-64', 'Pop >65', 'Female >65', 'Median Income']\n"
     ]
    }
   ],
   "source": [
    "#import the processed urban area charging stations and ACS data\n",
    "# to do: use imputer to handle missing vaules in scikit\n",
    "# http://stackoverflow.com/questions/30317119/classifiers-in-scikit-learn-that-handle-nan-null?lq=1\n",
    "\n",
    "#load urban area data\n",
    "# input vectors for now, we use incentive, population, household, %owning houses, ...\n",
    "X = np.loadtxt(\"data/parsed_urban_area_data_25.csv\",delimiter = ',',usecols = (1,2,3,4,5,6,7,8,9,10,11,12,13,\n",
    "                                                                              14,15,16,17,18,19,20,21,22,23,24,25)) \n",
    "#X = np.loadtxt(\"data/parsed_urban_area_data.csv\",delimiter = ',',usecols = (1,3,4,5,6,7,8,9,10))\n",
    "# Above line of code removes population and reran all the models. e.g., LinReg: score went up from 0.71 to 0.77\n",
    "# The results were stable and robust so more confident to stick with raw station count as outcome variable\n",
    "# labels. For now, we use station count\n",
    "Y = np.loadtxt(\"data/parsed_urban_area_data_25.csv\",delimiter = ',',usecols = (0,),dtype=float)  \n",
    "# feature names\n",
    "feaname = [\"Incentive\",\"Population\",\"Households\",\"% Owning Homes\",\n",
    "            \"Households $50-60K\",\"Households $60-75K\",\"Households $75-100K\",\n",
    "           \"Households $100-124K\",\"Households $125-150K\",\n",
    "          \"Households $150-200K\",\"Households >$200K\", \"Total College Grads\",\n",
    "          \"Total Graduate Degree\",\"% College Grads\",\n",
    "           \"Pop 18-24\",\"Female 18-24\",\"Pop 25-34\",\"Female 25-34\",\"Pop 35-44\",\"Female 35-44\",\n",
    "           \"Pop 45-64\",\"Female 45-64\",\"Pop >65\",\"Female >65\",\n",
    "           \"Median Income\"] # feature names of the selected attributes\n",
    "\n",
    "# checking input data and labels\n",
    "print Y.shape, X.shape, len(X), X[4], Y[4]\n",
    "\n",
    "# add shuffle code before splitting the data into train and dev sets\n",
    "# easiest shuffle utility is sklearn shuffle function\n",
    "from sklearn.utils import shuffle\n",
    "\n",
    "# shuffle two arrays in unison\n",
    "X, Y = shuffle(X, Y, random_state=0)\n",
    "print Y.shape, X.shape, len(X), X[4], Y[4]\n",
    "# double check the data type of the two arrays\n",
    "print X.dtype, Y.dtype\n",
    "\n",
    "# Split the imported data into training 75% and development data 25%\n",
    "\n",
    "split = 3*len(X)/4\n",
    "\n",
    "print len(X), split\n",
    "\n",
    "train_data, train_labels = X[:split], Y[:split]\n",
    "dev_data, dev_labels = X[split:], Y[split:]\n",
    "\n",
    "print train_data.shape, train_labels.shape\n",
    "print dev_data.shape, dev_labels.shape\n",
    "print train_data[1], train_labels[1]\n",
    "print dev_data[0], dev_labels[0]\n",
    "# dev_dat=np.array(dev_data)\n",
    "# print dev_dat.sum()\n",
    "print feaname"
   ]
  },
  {
   "cell_type": "code",
   "execution_count": 3,
   "metadata": {
    "collapsed": false
   },
   "outputs": [
    {
     "name": "stdout",
     "output_type": "stream",
     "text": [
      "('Coefficients: \\n', array([  2.07445151e-01,  -7.08181656e-04,   1.44312935e-04,\n",
      "        -1.23681820e-02,  -9.10027428e-04,   5.66183972e-04,\n",
      "         2.84050324e-04,   6.88520297e-04,  -9.31465321e-04,\n",
      "         3.08906386e-03,  -2.41752720e-03,   3.01475476e-02,\n",
      "         1.47923574e-02,   2.55545977e-02,  -1.49568427e-03,\n",
      "         4.78951675e-03,   3.54251992e-03,  -6.53040360e-03,\n",
      "         3.85940389e-03,  -2.68715123e-03,   1.09397850e-03,\n",
      "        -1.09019442e-03,   3.33127214e-03,  -4.79137524e-03,\n",
      "        -2.80168786e-06]))\n",
      "Variance score: 0.69\n",
      "(898,) (898,)\n",
      "0.0 361.0 -25.2155246163 360.366326612 -50.0789942709 800.873880507\n"
     ]
    },
    {
     "data": {
      "image/png": "[encoded data removed]",
      "text/plain": [
       "<matplotlib.figure.Figure at 0x10fe24bd0>"
      ]
     },
     "metadata": {},
     "output_type": "display_data"
    }
   ],
   "source": [
    "# try lineary regression mode\n",
    "from sklearn import datasets, linear_model\n",
    "\n",
    "# Create linear regression object\n",
    "regr = linear_model.LinearRegression()\n",
    "\n",
    "# Train the model using the training sets\n",
    "regr.fit(train_data, train_labels)\n",
    "\n",
    "# The coefficients\n",
    "print('Coefficients: \\n', regr.coef_)\n",
    "\n",
    "# score\n",
    "print('Variance score: %.2f' % regr.score(dev_data, dev_labels))\n",
    "\n",
    "# predict the dev data set\n",
    "dev_predictions=regr.predict(dev_data)\n",
    "print dev_predictions.shape, dev_labels.shape\n",
    "train_predict = regr.predict(train_data)\n",
    "# print dev_predictions[0], dev_labels[0]\n",
    "print np.amin(dev_labels), np.amax(dev_labels), np.amin(dev_predictions), np.amax(dev_predictions), np.amin(train_predict), np.amax(train_predict)\n",
    "\n",
    "\n",
    "# visualize predicted vs actual labels\n",
    "import matplotlib.pyplot as plt\n",
    "plt.axis([-40, 850, -40, 850])\n",
    "plt.plot(dev_labels, dev_predictions, 'r.')\n",
    "plt.plot(train_labels, train_predict, 'b.')\n",
    "plt.show()"
   ]
  },
  {
   "cell_type": "markdown",
   "metadata": {},
   "source": [
    "Interpretation of the Linear Regression model: TBD."
   ]
  },
  {
   "cell_type": "code",
   "execution_count": 4,
   "metadata": {
    "collapsed": false,
    "scrolled": true
   },
   "outputs": [
    {
     "name": "stdout",
     "output_type": "stream",
     "text": [
      "(898, 71) (898,)\n",
      "0.704899777283\n",
      "(898,) (898,)\n",
      "0.0 361.0 0.0 244.0 0.0 835.0\n"
     ]
    },
    {
     "name": "stderr",
     "output_type": "stream",
     "text": [
      "/Library/Python/2.7/site-packages/sklearn/linear_model/base.py:239: RuntimeWarning: overflow encountered in exp\n",
      "  np.exp(prob, prob)\n"
     ]
    },
    {
     "data": {
      "image/png": "[encoded data removed]",
      "text/plain": [
       "<matplotlib.figure.Figure at 0x10c478890>"
      ]
     },
     "metadata": {},
     "output_type": "display_data"
    }
   ],
   "source": [
    "# model with logistic regression \n",
    "#\n",
    "logreg = LogisticRegression(penalty='l1', C=1.0, tol=0.01) \n",
    "logreg.fit(train_data, train_labels)\n",
    "\n",
    "# examine predict prob for test data\n",
    "print logreg.predict_proba(dev_data).shape, dev_labels.shape\n",
    "\n",
    "# coeff_ for predictor, e.g., 0th=incentive, 1st=pop, 2nd=household, 3rd=%owning home, etc\n",
    "# vs labels - 0th =0 charging station, 1st =1 charging station etc....\n",
    "# print('Incentive Count vs Count of Charging Stations: \\n', np.transpose(logreg.coef_)[0])\n",
    "\n",
    "# print('Home Ownership Percentage vs Count of Charging Stations: \\n', np.transpose(logreg.coef_)[2])\n",
    "\n",
    "# examine score for test data\n",
    "print logreg.score(dev_data, dev_labels)\n",
    "\n",
    "# predict the dev data set\n",
    "dev_predictions=logreg.predict(dev_data)\n",
    "print dev_predictions.shape, dev_labels.shape\n",
    "train_predict = logreg.predict(train_data)\n",
    "# print dev_predictions[0], dev_labels[0]\n",
    "print np.amin(dev_labels), np.amax(dev_labels), np.amin(dev_predictions), np.amax(dev_predictions), np.amin(train_predict), np.amax(train_predict)\n",
    "\n",
    "\n",
    "# visualize predicted vs actual labels\n",
    "import matplotlib.pyplot as plt\n",
    "plt.axis([0, 850, 0, 850])\n",
    "plt.plot(dev_labels, dev_predictions, 'r.')\n",
    "plt.plot(train_labels, train_predict, 'b.')\n",
    "plt.show()\n"
   ]
  },
  {
   "cell_type": "markdown",
   "metadata": {},
   "source": [
    "Logistic Regression showed very similar score of 71% to the linear regression for test data set. Prediction for test set was much worse than by linear regression and tend to underpredict the outcome. The best explanation I can come up with is that it appears logistic regression somehow overfitted the training set especially for the urban areas with many charging stations."
   ]
  },
  {
   "cell_type": "code",
   "execution_count": 6,
   "metadata": {
    "collapsed": false
   },
   "outputs": [
    {
     "name": "stdout",
     "output_type": "stream",
     "text": [
      "0.761890437907\n"
     ]
    },
    {
     "data": {
      "image/png": "[encoded data removed]",
      "text/plain": [
       "<matplotlib.figure.Figure at 0x111600cd0>"
      ]
     },
     "metadata": {},
     "output_type": "display_data"
    },
    {
     "name": "stdout",
     "output_type": "stream",
     "text": [
      "0.762804127774 1.83354120267 73.369355902 0.761890437907\n",
      "1. feature 10  Households >$200K (0.196746)\n",
      "2. feature 9  Households $150-200K (0.155740)\n",
      "3. feature 8  Households $125-150K (0.104587)\n",
      "4. feature 16  Pop 25-34 (0.094819)\n",
      "5. feature 7  Households $100-124K (0.074143)\n",
      "6. feature 18  Pop 35-44 (0.065480)\n",
      "7. feature 17  Female 25-34 (0.045871)\n",
      "8. feature 3  % Owning Homes (0.045776)\n",
      "9. feature 24  Median Income (0.030604)\n",
      "10. feature 12  Total Graduate Degree (0.027882)\n",
      "11. feature 23  Female >65 (0.024500)\n",
      "12. feature 13  % College Grads (0.019132)\n",
      "13. feature 2  Households (0.018515)\n",
      "14. feature 4  Households $50-60K (0.016023)\n",
      "15. feature 19  Female 35-44 (0.015643)\n",
      "16. feature 14  Pop 18-24 (0.015585)\n",
      "17. feature 1  Population (0.014851)\n",
      "18. feature 11  Total College Grads (0.010928)\n",
      "19. feature 20  Pop 45-64 (0.006856)\n",
      "20. feature 0  Incentive (0.005191)\n",
      "21. feature 21  Female 45-64 (0.003556)\n",
      "22. feature 15  Female 18-24 (0.002505)\n",
      "23. feature 6  Households $75-100K (0.002209)\n",
      "24. feature 22  Pop >65 (0.002018)\n",
      "25. feature 5  Households $60-75K (0.000841)\n"
     ]
    },
    {
     "data": {
      "image/png": "[encoded data removed]",
      "text/plain": [
       "<matplotlib.figure.Figure at 0x1116656d0>"
      ]
     },
     "metadata": {},
     "output_type": "display_data"
    }
   ],
   "source": [
    "# random forest modeling\n",
    "\n",
    "random = RandomForestRegressor(n_estimators=50)\n",
    "random.fit(train_data, train_labels)\n",
    "\n",
    "# Make predictions on dev data\n",
    "dev_predictions = random.predict(dev_data)\n",
    "# Predict train data to examine if model overfitted\n",
    "train_predict = random.predict(train_data)\n",
    "\n",
    "# examine score for test data\n",
    "print random.score(dev_data, dev_labels)\n",
    "\n",
    "plt.axis([-40, 850, -40, 850])\n",
    "plt.plot(dev_labels, dev_predictions, 'r.')\n",
    "plt.plot(train_labels, train_predict, 'b.')\n",
    "plt.plot([0,0],[500,500],'r-')\n",
    "plt.show()\n",
    "\n",
    "_explained_variance_score = explained_variance_score(dev_labels, dev_predictions)\n",
    "_mean_absolute_error = mean_absolute_error(dev_labels, dev_predictions)\n",
    "_mean_squared_error = mean_squared_error(dev_labels, dev_predictions)\n",
    "_r2_score = r2_score(dev_labels, dev_predictions)\n",
    "\n",
    "print _explained_variance_score, _mean_absolute_error, _mean_squared_error, _r2_score\n",
    "\n",
    "# predicting charging station count for Coppell Texas\n",
    "#X_Coppell=np.array([39551,0.488938333,37.9,22.1,64572,0.721044394])\n",
    "# print random.predict(X_Coppell)\n",
    "\n",
    "# evaluate the importances of the features\n",
    "importances = random.feature_importances_\n",
    "std = np.std([tree.feature_importances_ for tree in random.estimators_],\n",
    "            axis=0)\n",
    "indices = np.argsort(importances)[::-1]\n",
    "\n",
    "for f in range(25):\n",
    "    print(\"%d. feature %d  %s (%f)\" % ( f + 1, indices[f], feaname[indices[f]], importances[indices[f]]))\n",
    "\n",
    "# plot the feature importances\n",
    "plt.figure()\n",
    "plt.title(\"Feature Importances\")\n",
    "plt.bar(range(25), importances[indices], \n",
    "       color='r', yerr=std[indices], align=\"center\")\n",
    "plt.xlim([-1,10])\n",
    "plt.show()"
   ]
  },
  {
   "cell_type": "code",
   "execution_count": 7,
   "metadata": {
    "collapsed": false
   },
   "outputs": [
    {
     "name": "stdout",
     "output_type": "stream",
     "text": [
      "0.702672605791\n"
     ]
    },
    {
     "data": {
      "image/png": "[encoded data removed]",
      "text/plain": [
       "<matplotlib.figure.Figure at 0x1116be090>"
      ]
     },
     "metadata": {},
     "output_type": "display_data"
    },
    {
     "name": "stdout",
     "output_type": "stream",
     "text": [
      "1. feature 7  Households $100-124K (0.044548)\n",
      "2. feature 13  % College Grads (0.044012)\n",
      "3. feature 5  Households $60-75K (0.043916)\n",
      "4. feature 6  Households $75-100K (0.043894)\n",
      "5. feature 19  Female 35-44 (0.043717)\n",
      "6. feature 10  Households >$200K (0.043510)\n",
      "7. feature 4  Households $50-60K (0.043315)\n",
      "8. feature 17  Female 25-34 (0.042516)\n",
      "9. feature 8  Households $125-150K (0.042500)\n",
      "10. feature 2  Households (0.042260)\n",
      "11. feature 21  Female 45-64 (0.041083)\n",
      "12. feature 12  Total Graduate Degree (0.040391)\n",
      "13. feature 20  Pop 45-64 (0.040078)\n",
      "14. feature 1  Population (0.039842)\n",
      "15. feature 23  Female >65 (0.039629)\n",
      "16. feature 18  Pop 35-44 (0.039334)\n",
      "17. feature 9  Households $150-200K (0.039105)\n",
      "18. feature 15  Female 18-24 (0.038906)\n",
      "19. feature 22  Pop >65 (0.038170)\n",
      "20. feature 14  Pop 18-24 (0.037452)\n",
      "21. feature 16  Pop 25-34 (0.036910)\n",
      "22. feature 3  % Owning Homes (0.035897)\n",
      "23. feature 11  Total College Grads (0.034015)\n",
      "24. feature 24  Median Income (0.032662)\n",
      "25. feature 0  Incentive (0.032338)\n"
     ]
    },
    {
     "data": {
      "image/png": "[encoded data removed]",
      "text/plain": [
       "<matplotlib.figure.Figure at 0x11164b9d0>"
      ]
     },
     "metadata": {},
     "output_type": "display_data"
    }
   ],
   "source": [
    "# try to rank importance of features from 250 Decision Trees \n",
    "from sklearn.ensemble import ExtraTreesClassifier\n",
    "\n",
    "forest = ExtraTreesClassifier(n_estimators=250, random_state=0)\n",
    "# fit the whole data set and calcualte feature importances\n",
    "forest.fit(train_data, train_labels)\n",
    "\n",
    "# Make predictions on dev data\n",
    "dev_predictions = forest.predict(dev_data)\n",
    "# Predict train data to examine if model overfitted\n",
    "train_predict = forest.predict(train_data)\n",
    "\n",
    "# examine score for test data\n",
    "print forest.score(dev_data, dev_labels)\n",
    "\n",
    "plt.axis([-40, 850, -40, 850])\n",
    "plt.plot(dev_labels, dev_predictions, 'r.')\n",
    "plt.plot(train_labels, train_predict, 'b.')\n",
    "plt.show()\n",
    "\n",
    "importances = forest.feature_importances_\n",
    "std = np.std([tree.feature_importances_ for tree in forest.estimators_],\n",
    "            axis=0)\n",
    "indices = np.argsort(importances)[::-1]\n",
    "\n",
    "for f in range(25):\n",
    "    print(\"%d. feature %d  %s (%f)\" % ( f + 1, indices[f], feaname[indices[f]], importances[indices[f]]))\n",
    "\n",
    "# plot the feature importances\n",
    "plt.figure()\n",
    "plt.title(\"Feature Importances\")\n",
    "plt.bar(range(25), importances[indices], \n",
    "       color='r', yerr=std[indices], align=\"center\")\n",
    "plt.xlim([-1,10])\n",
    "plt.show()"
   ]
  },
  {
   "cell_type": "code",
   "execution_count": 8,
   "metadata": {
    "collapsed": false
   },
   "outputs": [],
   "source": [
    "# import pandas\n",
    "# to do's Friday night - use case - predict the most potential urban areas for EV adoption or growth\n",
    "# use the best model - random forest model with the 10 attributes to:\n",
    "# predict top urban area EV pravalence or CS counts\n",
    "# write the predicted CS counts with numpy savetxt() - add a new column \"Predicted Station Count\"\n",
    "# merge with the unparsed data with long/lat data \n",
    "# sort based on the difference of predicted versus actual counts\n",
    "# the bigger the predicted - actual, the more potential there is for the urban area to adopt EV\n",
    "# \n",
    "#reload all parsed urban area data with the same selected attributes as the first part of the modeling\n",
    "X = np.loadtxt(\"data/parsed_urban_area_data_25.csv\",delimiter = ',',usecols = (1,2,3,4,5,6,7,8,9,10,\n",
    "                                                                              11,12,13,14,15,16,17,\n",
    "                                                                              18,19,20,21,22,23,24,25)) \n",
    "# reload the actual labels\n",
    "Y_actual = np.loadtxt(\"data/parsed_urban_area_data_25.csv\",delimiter = ',',usecols = (0,),dtype=float)  \n",
    "\n",
    "# predict charging station counts based on Random Forest model previously\n",
    "Y_predict = random.predict(X)\n",
    "\n",
    "# print X.shape, Y_actual.T.shape, Y_predict.T.shape\n",
    "\n",
    "X1=np.column_stack((Y_predict, Y_actual, X))\n",
    "# print X1\n",
    "\n",
    "np.savetxt('predicted_urban_areas_25.csv', X1, fmt='%f',delimiter=',',newline='\\n',header='',footer='')\n",
    "\n"
   ]
  },
  {
   "cell_type": "code",
   "execution_count": null,
   "metadata": {
    "collapsed": true
   },
   "outputs": [],
   "source": []
  }
 ],
 "metadata": {
  "kernelspec": {
   "display_name": "Python 2",
   "language": "python",
   "name": "python2"
  },
  "language_info": {
   "codemirror_mode": {
    "name": "ipython",
    "version": 2
   },
   "file_extension": ".py",
   "mimetype": "text/x-python",
   "name": "python",
   "nbconvert_exporter": "python",
   "pygments_lexer": "ipython2",
   "version": "2.7.6"
  }
 },
 "nbformat": 4,
 "nbformat_minor": 0
}
