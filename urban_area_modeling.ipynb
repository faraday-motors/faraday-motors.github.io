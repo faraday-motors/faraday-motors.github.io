{
 "cells": [
  {
   "cell_type": "code",
   "execution_count": 1,
   "metadata": {
    "collapsed": false
   },
   "outputs": [],
   "source": [
    "%matplotlib inline\n",
    "\n",
    "import numpy as np\n",
    "import matplotlib.pyplot as plt\n",
    "from sklearn import metrics\n",
    "from sklearn.naive_bayes import MultinomialNB\n",
    "from sklearn.linear_model import LogisticRegression\n",
    "from sklearn.naive_bayes import BernoulliNB\n",
    "from sklearn.grid_search import GridSearchCV\n",
    "from sklearn.feature_extraction.text import *\n",
    "from sklearn.ensemble import RandomForestClassifier, RandomForestRegressor\n",
    "from sklearn.metrics import accuracy_score\n",
    "from sklearn.metrics import explained_variance_score\n",
    "from sklearn.metrics import mean_absolute_error\n",
    "from sklearn.metrics import mean_squared_error\n",
    "from sklearn.metrics import r2_score\n",
    "import csv\n"
   ]
  },
  {
   "cell_type": "markdown",
   "metadata": {},
   "source": [
    "Load merged data file with charging stations and ACS data aggregated by urban areas. Use raw count of stations as the labels (for now) and picked 11 attributes for modeling."
   ]
  },
  {
   "cell_type": "code",
   "execution_count": 23,
   "metadata": {
    "collapsed": false
   },
   "outputs": [
    {
     "name": "stdout",
     "output_type": "stream",
     "text": [
      "(3584,) (3584, 10) 3584 [  0.00000000e+00   2.59770000e+04   1.12890000e+04   6.39206307e+01\n",
      "   1.75000000e+02   2.37000000e+02   7.10000000e+00   7.10000000e+00\n",
      "   2.67000000e+01   1.50000000e+01] 2.0\n",
      "(3584,) (3584, 10) 3584 [  3.00000000e+00   5.62400000e+03   2.05800000e+03   6.68610301e+01\n",
      "   3.20000000e+01   0.00000000e+00   9.40000000e+00   2.00000000e+00\n",
      "   9.20000000e+00   7.00000000e+00] 0.0\n",
      "float64 float64\n",
      "float64\n",
      "3584 2688\n",
      "(2688, 10) (2688,)\n",
      "(896, 10) (896,)\n",
      "[  2.00000000e+00   7.67500000e+03   3.13200000e+03   5.62260536e+01\n",
      "   3.60000000e+01   4.10000000e+01   8.80000000e+00   4.00000000e+00\n",
      "   1.49000000e+01   1.35000000e+01] 2.0\n",
      "[  2.00000000e+00   4.02800000e+03   1.47400000e+03   5.62415197e+01\n",
      "   1.70000000e+01   0.00000000e+00   8.60000000e+00   5.40000000e+00\n",
      "   1.22000000e+01   1.19000000e+01] 0.0\n"
     ]
    }
   ],
   "source": [
    "#import the merged charging station and ACS data\n",
    "# to do: use imputer to handle missing vaules in scikit\n",
    "# http://stackoverflow.com/questions/30317119/classifiers-in-scikit-learn-that-handle-nan-null?lq=1\n",
    "#lines = open('data/missing_values_removed.csv').read().splitlines()\n",
    "#Remove the first row, it's just the headings\n",
    "# lines.pop(0)\n",
    "\n",
    "#load urban area data\n",
    "# input vectors for now, we use incentive, population, household, %owning houses, ...\n",
    "X = np.loadtxt(\"data/parsed_urban_area_data.csv\",delimiter = ',',usecols = (1,2,3,4,5,6,7,8,9,10)) \n",
    "# X = np.loadtxt(\"data/parsed_urban_area_data.csv\",delimiter = ',',usecols = (1,3,4,5,6,7,8,9,10))\n",
    "# labels for now, we use station count\n",
    "Y = np.loadtxt(\"data/parsed_urban_area_data.csv\",delimiter = ',',usecols = (0,),dtype=float)  \n",
    "# feature names\n",
    "feaname = [\"Incentive\",\"Population\",\"Households\",\"% Owning Homes\",\n",
    "          \"Households $150-200K\",\"Households >$200K\", \"Total College Grads\",\n",
    "          \"Total Graduate Degree\",\"% College Grads\",\"Median Income\"] # feature names of the attributes\n",
    "\n",
    "print Y.shape, X.shape, len(X), X[4], Y[4]\n",
    "\n",
    "# add shuffle code before splitting the data into train and dev sets\n",
    "# easiest shuffle utility is sklearn shuffle function\n",
    "from sklearn.utils import shuffle\n",
    "\n",
    "# shuffle two arrays in unison\n",
    "X, Y = shuffle(X, Y, random_state=0)\n",
    "print Y.shape, X.shape, len(X), X[4], Y[4]\n",
    "# determine the data type of the two arrays\n",
    "print X.dtype, Y.dtype\n",
    "# convert to strings\n",
    "# must handle missing values first by making missing values zeros\n",
    "X[X==''] = '0'\n",
    "# now convert to float or leave them alone - converting now to make the code cleaner\n",
    "X1=X.astype(np.float)\n",
    "print X1.dtype\n",
    "\n",
    "# Split the imported data into training 75% and development data 25%\n",
    "\n",
    "split = 3*len(X)/4\n",
    "\n",
    "print len(X), split\n",
    "\n",
    "train_data, train_labels = X[:split], Y[:split]\n",
    "dev_data, dev_labels = X[split:], Y[split:]\n",
    "\n",
    "print train_data.shape, train_labels.shape\n",
    "print dev_data.shape, dev_labels.shape\n",
    "print train_data[1], train_labels[1]\n",
    "print dev_data[0], dev_labels[0]\n",
    "# dev_dat=np.array(dev_data)\n",
    "# print dev_dat.sum()"
   ]
  },
  {
   "cell_type": "code",
   "execution_count": 24,
   "metadata": {
    "collapsed": false
   },
   "outputs": [
    {
     "name": "stdout",
     "output_type": "stream",
     "text": [
      "('Coefficients: \\n', array([  2.20370811e-01,   1.68342950e-04,  -4.19549259e-04,\n",
      "        -3.80050300e-02,   5.01445312e-03,  -3.54792452e-03,\n",
      "         7.18462297e-02,   5.54344591e-02,   9.41617503e-02,\n",
      "         4.55441486e-03]))\n",
      "Variance score: 0.71\n",
      "(896,) (896,)\n",
      "0.0 361.0 -34.2299914706 388.469351755\n"
     ]
    },
    {
     "data": {
      "image/png": "[encoded data removed]",
      "text/plain": [
       "<matplotlib.figure.Figure at 0x106290f10>"
      ]
     },
     "metadata": {},
     "output_type": "display_data"
    }
   ],
   "source": [
    "# try lineary regression mode\n",
    "from sklearn import datasets, linear_model\n",
    "\n",
    "# Create linear regression object\n",
    "regr = linear_model.LinearRegression()\n",
    "\n",
    "# Train the model using the training sets\n",
    "regr.fit(train_data, train_labels)\n",
    "\n",
    "# The coefficients\n",
    "print('Coefficients: \\n', regr.coef_)\n",
    "\n",
    "# score\n",
    "print('Variance score: %.2f' % regr.score(dev_data, dev_labels))\n",
    "\n",
    "# predict the dev data set\n",
    "dev_predictions=regr.predict(dev_data)\n",
    "print dev_predictions.shape, dev_labels.shape\n",
    "# print dev_predictions[0], dev_labels[0]\n",
    "print np.amin(dev_labels), np.amax(dev_labels), np.amin(dev_predictions), np.amax(dev_predictions)\n",
    "\n",
    "# visualize predicted vs actual labels\n",
    "import matplotlib.pyplot as plt\n",
    "plt.axis([0, 400, -40, 400])\n",
    "plt.plot(dev_labels, dev_predictions, 'r.')\n",
    "plt.show()"
   ]
  },
  {
   "cell_type": "markdown",
   "metadata": {},
   "source": [
    "Interpretation of the Linear Regression model: Number of charging stations in each region is positively correlated to the population, percentage of male population, age, percentage of the population which is college educated, and income and negatively correlated to the percentage of home owners. The model predicts two charging stations for each 100,000 increase in population, ~0.08 charging stations for 10% increase in male percentage, ~0.07 charging stations for every 10 years increase in median age, ~0.1 charging station for every 10% increase in % of college educated, and ~0.14 charging stations for every $10,000 increase in median income; and -0.17 charging stations for every 10 percentage increase in home ownership.  As an example, the simple linear model predicts 1.5 charging stations for Coppell, Texas (vs. 3 actual charging stations). The underestimate is due to the combination of the high percentage of home owership (74 percent) and relatively small population (less than 40,000)."
   ]
  },
  {
   "cell_type": "code",
   "execution_count": 25,
   "metadata": {
    "collapsed": false,
    "scrolled": true
   },
   "outputs": [
    {
     "name": "stdout",
     "output_type": "stream",
     "text": [
      "(896, 65) (896,)\n",
      "('Incentive Count vs Count of Charging Stations: \\n', array([ -1.96236976e-02,   6.09153345e-03,   1.74517199e-02,\n",
      "         1.53753765e-02,   3.01188966e-02,   6.43449357e-02,\n",
      "         4.29892600e-02,   3.51581750e-02,   9.74590547e-02,\n",
      "         1.04217713e-01,  -5.66625879e-02,   1.37703548e-01,\n",
      "         0.00000000e+00,  -3.11799174e-02,  -2.59368477e-01,\n",
      "         1.89808285e-01,   0.00000000e+00,  -7.67257888e-02,\n",
      "        -1.14782789e-01,   8.96394750e-02,   0.00000000e+00,\n",
      "         4.94565099e-02,   7.11858093e-02,   5.43851402e-02,\n",
      "        -6.37500335e-02,  -8.16179200e-02,   1.56491980e-01,\n",
      "        -4.92756434e-02,   1.09137608e-01,  -2.80474849e-04,\n",
      "         1.94269394e-01,  -7.03671704e-01,   1.08092126e-01,\n",
      "         2.71359598e-02,  -2.22253433e-01,  -1.73853100e-01,\n",
      "        -1.15314759e-01,   1.30383544e-01,  -4.69023062e-01,\n",
      "        -1.18188292e+00,   1.23701049e-01,   0.00000000e+00,\n",
      "         0.00000000e+00,  -2.62429550e-01,  -1.19300915e-01,\n",
      "        -5.65539751e-01,  -2.39020473e-02,   0.00000000e+00,\n",
      "         0.00000000e+00,   0.00000000e+00,   0.00000000e+00,\n",
      "         0.00000000e+00,  -5.70329267e-02,  -1.99212377e-02,\n",
      "        -1.16520240e+00,   0.00000000e+00,  -9.48699540e-01,\n",
      "         0.00000000e+00,  -3.68336539e-01,  -8.14024088e-02,\n",
      "         0.00000000e+00,   0.00000000e+00,   0.00000000e+00,\n",
      "         4.32407986e-03,   0.00000000e+00]))\n",
      "('Home Ownership Percentage vs Count of Charging Stations: \\n', array([ -2.32662214e-05,  -6.86427066e-06,   1.43177158e-05,\n",
      "         2.21779974e-05,   1.83541711e-05,   2.26391220e-05,\n",
      "         2.56054514e-05,   2.37965206e-05,   7.06187289e-06,\n",
      "         1.76046511e-05,  -3.26079735e-05,   2.94865140e-05,\n",
      "         5.05391198e-06,   9.22305107e-06,   6.60922703e-05,\n",
      "        -2.54615490e-05,   1.94058799e-04,   2.23775151e-05,\n",
      "         8.20337009e-05,   8.57666588e-05,  -1.09527706e-03,\n",
      "         4.95950500e-05,  -5.16363565e-05,  -6.36939220e-05,\n",
      "         1.06146826e-04,   3.38555400e-04,   4.28963974e-05,\n",
      "         8.37461240e-05,   2.73320100e-05,   7.78275480e-05,\n",
      "        -1.96739852e-05,   4.55172224e-05,  -3.72566410e-04,\n",
      "         1.75656414e-04,   5.73206546e-04,  -8.56760463e-06,\n",
      "         4.40832575e-06,   9.26885050e-05,  -2.79886808e-04,\n",
      "         1.14063316e-04,   2.55486023e-05,   2.46369104e-04,\n",
      "         2.60034619e-04,   4.98315804e-05,   2.98988863e-05,\n",
      "         6.40317830e-05,   7.44115222e-05,  -5.42891070e-05,\n",
      "         1.80367841e-04,   5.33321473e-04,   1.07461137e-04,\n",
      "         4.19237084e-05,  -1.66988424e-05,   9.43267290e-05,\n",
      "         3.11945014e-06,  -1.02508750e-05,   1.15853086e-04,\n",
      "         1.70410895e-05,   7.12074992e-05,   1.50091277e-04,\n",
      "         4.60823609e-05,  -1.13873672e-05,   7.17011911e-06,\n",
      "         1.84539595e-05,  -8.70111065e-06]))\n",
      "0.713169642857\n"
     ]
    }
   ],
   "source": [
    "# fit the first model with logistic regression \n",
    "#\n",
    "logreg = LogisticRegression(penalty='l1', C=1.0, tol=0.01) \n",
    "logreg.fit(train_data, train_labels)\n",
    "\n",
    "# examine predict prob for test data\n",
    "print logreg.predict_proba(dev_data).shape, dev_labels.shape\n",
    "\n",
    "# coeff_ for predictor, e.g., 0th=incentive, 1st=pop, 2nd=household, 3rd=%owning home, etc\n",
    "# vs labels - 0th =0 charging station, 1st =1 charging station etc....\n",
    "print('Incentive Count vs Count of Charging Stations: \\n', np.transpose(logreg.coef_)[0])\n",
    "\n",
    "print('Home Ownership Percentage vs Count of Charging Stations: \\n', np.transpose(logreg.coef_)[2])\n",
    "\n",
    "# examine score for test data\n",
    "print logreg.score(dev_data, dev_labels)\n",
    "\n",
    "# predicting Coppell Texas with this LogReg model\n",
    "# X_Coppell=np.array([39551,0.488938333,37.9,22.1,64572,0.721044394])\n",
    "\n",
    "# print logreg.predict_proba(X_Coppell)"
   ]
  },
  {
   "cell_type": "markdown",
   "metadata": {},
   "source": [
    "Logistic Regression showed similar results although the score is much higher for the test data set 86%. However, in reality, the predicting power of the model is limited. E.g., for Coppell, Texas, the model predicts 30.5% probability of 0, 32.0% of 1, 17.1% of 2 charging stations, etc.. The example is slightly unfair as Coppell is a small town of less than 40,000 residents, and with moderately high income (positive) and home owing percegtage (negative).\n",
    "\n",
    "Improvements to the model. Play with the class weight parameter, perhaps to underweigh data points with 0 charging stations and overweigh these with higher counts of charging stations. "
   ]
  },
  {
   "cell_type": "code",
   "execution_count": 33,
   "metadata": {
    "collapsed": false
   },
   "outputs": [
    {
     "data": {
      "image/png": "[encoded data removed]",
      "text/plain": [
       "<matplotlib.figure.Figure at 0x10b738910>"
      ]
     },
     "metadata": {},
     "output_type": "display_data"
    },
    {
     "name": "stdout",
     "output_type": "stream",
     "text": [
      "0.896446189113 1.85981696429 64.7620201964 0.896369264542\n",
      "1. feature 4  Households $150-200K (0.341100)\n",
      "2. feature 5  Households >$200K (0.338813)\n",
      "3. feature 1  Population (0.115590)\n",
      "4. feature 2  Households (0.070511)\n",
      "5. feature 3  % Owning Homes (0.058649)\n",
      "6. feature 7  Total Graduate Degree (0.019978)\n",
      "7. feature 6  Total College Grads (0.016561)\n",
      "8. feature 8  % College Grads (0.014341)\n",
      "9. feature 9  Median Income (0.013805)\n",
      "10. feature 0  Incentive (0.010653)\n"
     ]
    },
    {
     "data": {
      "image/png": "[encoded data removed]",
      "text/plain": [
       "<matplotlib.figure.Figure at 0x10b712450>"
      ]
     },
     "metadata": {},
     "output_type": "display_data"
    }
   ],
   "source": [
    "# random forest modeling\n",
    "\n",
    "random = RandomForestRegressor(n_estimators=250)\n",
    "random.fit(train_data, train_labels)\n",
    "\n",
    "# Make predictions on dev data\n",
    "dev_predictions = random.predict(dev_data)\n",
    "\n",
    "plt.axis([-40, 400, -40, 400])\n",
    "plt.plot(dev_labels, dev_predictions, 'r.')\n",
    "plt.show()\n",
    "\n",
    "_explained_variance_score = explained_variance_score(dev_labels, dev_predictions)\n",
    "_mean_absolute_error = mean_absolute_error(dev_labels, dev_predictions)\n",
    "_mean_squared_error = mean_squared_error(dev_labels, dev_predictions)\n",
    "_r2_score = r2_score(dev_labels, dev_predictions)\n",
    "\n",
    "print _explained_variance_score, _mean_absolute_error, _mean_squared_error, _r2_score\n",
    "\n",
    "# predicting charging station count for Coppell Texas\n",
    "#X_Coppell=np.array([39551,0.488938333,37.9,22.1,64572,0.721044394])\n",
    "# print random.predict(X_Coppell)\n",
    "\n",
    "# evaluate the importances of the features\n",
    "importances = random.feature_importances_\n",
    "std = np.std([tree.feature_importances_ for tree in forest.estimators_],\n",
    "            axis=0)\n",
    "indices = np.argsort(importances)[::-1]\n",
    "\n",
    "for f in range(10):\n",
    "    print(\"%d. feature %d  %s (%f)\" % ( f + 1, indices[f], feaname[indices[f]], importances[indices[f]]))\n",
    "\n",
    "# plot the feature importances\n",
    "plt.figure()\n",
    "plt.title(\"Feature Importances\")\n",
    "plt.bar(range(10), importances[indices], \n",
    "       color='r', yerr=std[indices], align=\"center\")\n",
    "plt.xlim([-1,10])\n",
    "plt.show()"
   ]
  },
  {
   "cell_type": "code",
   "execution_count": 35,
   "metadata": {
    "collapsed": false
   },
   "outputs": [
    {
     "name": "stdout",
     "output_type": "stream",
     "text": [
      "1. feature 2  Households (0.128531)\n",
      "2. feature 1  Population (0.121140)\n",
      "3. feature 5  Households >$200K (0.118313)\n",
      "4. feature 4  Households $150-200K (0.116346)\n",
      "5. feature 8  % College Grads (0.098222)\n",
      "6. feature 9  Median Income (0.092710)\n",
      "7. feature 7  Total Graduate Degree (0.091209)\n",
      "8. feature 3  % Owning Homes (0.088153)\n",
      "9. feature 6  Total College Grads (0.081428)\n",
      "10. feature 0  Incentive (0.063949)\n"
     ]
    },
    {
     "data": {
      "image/png": "[encoded data removed]",
      "text/plain": [
       "<matplotlib.figure.Figure at 0x10b4e00d0>"
      ]
     },
     "metadata": {},
     "output_type": "display_data"
    }
   ],
   "source": [
    "# try to rank importance of features from 250 Decision Trees \n",
    "from sklearn.ensemble import ExtraTreesClassifier\n",
    "\n",
    "forest = ExtraTreesClassifier(n_estimators=250, random_state=0)\n",
    "# fit the whole data set and calcualte feature importances\n",
    "forest.fit(X, Y)\n",
    "\n",
    "importances = forest.feature_importances_\n",
    "std = np.std([tree.feature_importances_ for tree in forest.estimators_],\n",
    "            axis=0)\n",
    "indices = np.argsort(importances)[::-1]\n",
    "\n",
    "for f in range(10):\n",
    "    print(\"%d. feature %d  %s (%f)\" % ( f + 1, indices[f], feaname[indices[f]], importances[indices[f]]))\n",
    "\n",
    "# plot the feature importances\n",
    "plt.figure()\n",
    "plt.title(\"Feature Importances\")\n",
    "plt.bar(range(10), importances[indices], \n",
    "       color='r', yerr=std[indices], align=\"center\")\n",
    "plt.xlim([-1,10])\n",
    "plt.show()"
   ]
  },
  {
   "cell_type": "code",
   "execution_count": null,
   "metadata": {
    "collapsed": true
   },
   "outputs": [],
   "source": []
  }
 ],
 "metadata": {
  "kernelspec": {
   "display_name": "Python 2",
   "language": "python",
   "name": "python2"
  },
  "language_info": {
   "codemirror_mode": {
    "name": "ipython",
    "version": 2
   },
   "file_extension": ".py",
   "mimetype": "text/x-python",
   "name": "python",
   "nbconvert_exporter": "python",
   "pygments_lexer": "ipython2",
   "version": "2.7.6"
  }
 },
 "nbformat": 4,
 "nbformat_minor": 0
}
