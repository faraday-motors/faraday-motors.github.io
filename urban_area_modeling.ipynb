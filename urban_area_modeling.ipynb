{
 "cells": [
  {
   "cell_type": "code",
   "execution_count": 1,
   "metadata": {
    "collapsed": false
   },
   "outputs": [],
   "source": [
    "%matplotlib inline\n",
    "\n",
    "import numpy as np\n",
    "import matplotlib.pyplot as plt\n",
    "from sklearn import metrics\n",
    "from sklearn.naive_bayes import MultinomialNB\n",
    "from sklearn.linear_model import LogisticRegression\n",
    "from sklearn.naive_bayes import BernoulliNB\n",
    "from sklearn.grid_search import GridSearchCV\n",
    "from sklearn.feature_extraction.text import *\n",
    "from sklearn.ensemble import RandomForestClassifier, RandomForestRegressor\n",
    "from sklearn.metrics import accuracy_score\n",
    "from sklearn.metrics import explained_variance_score\n",
    "from sklearn.metrics import mean_absolute_error\n",
    "from sklearn.metrics import mean_squared_error\n",
    "from sklearn.metrics import r2_score\n",
    "import csv\n"
   ]
  },
  {
   "cell_type": "markdown",
   "metadata": {},
   "source": [
    "Load merged data file with charging stations and ACS data aggregated by urban areas. Use raw count of stations as the labels (for now) and picked 10 attributes for modeling.Preprocessed the data into a csv file."
   ]
  },
  {
   "cell_type": "code",
   "execution_count": 2,
   "metadata": {
    "collapsed": false
   },
   "outputs": [
    {
     "name": "stdout",
     "output_type": "stream",
     "text": [
      "(3584,) (3584, 10) 3584 [  0.00000000e+00   2.59770000e+04   1.12890000e+04   6.39206307e+01\n",
      "   1.75000000e+02   2.37000000e+02   7.10000000e+00   7.10000000e+00\n",
      "   2.67000000e+01   1.50000000e+01] 2.0\n",
      "(3584,) (3584, 10) 3584 [  3.00000000e+00   5.62400000e+03   2.05800000e+03   6.68610301e+01\n",
      "   3.20000000e+01   0.00000000e+00   9.40000000e+00   2.00000000e+00\n",
      "   9.20000000e+00   7.00000000e+00] 0.0\n",
      "float64 float64\n",
      "3584 2688\n",
      "(2688, 10) (2688,)\n",
      "(896, 10) (896,)\n",
      "[  2.00000000e+00   7.67500000e+03   3.13200000e+03   5.62260536e+01\n",
      "   3.60000000e+01   4.10000000e+01   8.80000000e+00   4.00000000e+00\n",
      "   1.49000000e+01   1.35000000e+01] 2.0\n",
      "[  2.00000000e+00   4.02800000e+03   1.47400000e+03   5.62415197e+01\n",
      "   1.70000000e+01   0.00000000e+00   8.60000000e+00   5.40000000e+00\n",
      "   1.22000000e+01   1.19000000e+01] 0.0\n",
      "['Incentive', 'Population', 'Households', '% Owning Homes', 'Households $150-200K', 'Households >$200K', 'Total College Grads', 'Total Graduate Degree', '% College Grads', 'Median Income']\n"
     ]
    }
   ],
   "source": [
    "#import the processed urban area charging stations and ACS data\n",
    "# to do: use imputer to handle missing vaules in scikit\n",
    "# http://stackoverflow.com/questions/30317119/classifiers-in-scikit-learn-that-handle-nan-null?lq=1\n",
    "\n",
    "#load urban area data\n",
    "# input vectors for now, we use incentive, population, household, %owning houses, ...\n",
    "X = np.loadtxt(\"data/parsed_urban_area_data.csv\",delimiter = ',',usecols = (1,2,3,4,5,6,7,8,9,10)) \n",
    "#X = np.loadtxt(\"data/parsed_urban_area_data.csv\",delimiter = ',',usecols = (1,3,4,5,6,7,8,9,10))\n",
    "# Above line of code removes population and reran all the models. e.g., LinReg: score went up from 0.71 to 0.77\n",
    "# The results were stable and robust so more confident to stick with raw station count as outcome variable\n",
    "# labels. For now, we use station count\n",
    "Y = np.loadtxt(\"data/parsed_urban_area_data.csv\",delimiter = ',',usecols = (0,),dtype=float)  \n",
    "# feature names\n",
    "feaname = [\"Incentive\",\"Population\",\"Households\",\"% Owning Homes\",\n",
    "          \"Households $150-200K\",\"Households >$200K\", \"Total College Grads\",\n",
    "          \"Total Graduate Degree\",\"% College Grads\",\"Median Income\"] # feature names of the selected attributes\n",
    "\n",
    "# checking input data and labels\n",
    "print Y.shape, X.shape, len(X), X[4], Y[4]\n",
    "\n",
    "# add shuffle code before splitting the data into train and dev sets\n",
    "# easiest shuffle utility is sklearn shuffle function\n",
    "from sklearn.utils import shuffle\n",
    "\n",
    "# shuffle two arrays in unison\n",
    "X, Y = shuffle(X, Y, random_state=0)\n",
    "print Y.shape, X.shape, len(X), X[4], Y[4]\n",
    "# double check the data type of the two arrays\n",
    "print X.dtype, Y.dtype\n",
    "\n",
    "# Split the imported data into training 75% and development data 25%\n",
    "\n",
    "split = 3*len(X)/4\n",
    "\n",
    "print len(X), split\n",
    "\n",
    "train_data, train_labels = X[:split], Y[:split]\n",
    "dev_data, dev_labels = X[split:], Y[split:]\n",
    "\n",
    "print train_data.shape, train_labels.shape\n",
    "print dev_data.shape, dev_labels.shape\n",
    "print train_data[1], train_labels[1]\n",
    "print dev_data[0], dev_labels[0]\n",
    "# dev_dat=np.array(dev_data)\n",
    "# print dev_dat.sum()\n",
    "print feaname"
   ]
  },
  {
   "cell_type": "code",
   "execution_count": 3,
   "metadata": {
    "collapsed": false
   },
   "outputs": [
    {
     "name": "stdout",
     "output_type": "stream",
     "text": [
      "('Coefficients: \\n', array([  2.20381901e-01,   1.68341693e-04,  -4.19540740e-04,\n",
      "        -3.78616319e-02,   5.01427332e-03,  -3.54782502e-03,\n",
      "         7.17977462e-02,   5.58138787e-02,   9.39398819e-02,\n",
      "         4.59016920e-03]))\n",
      "Variance score: 0.71\n",
      "(896,) (896,)\n",
      "0.0 361.0 -34.2274461574 388.470127493 -8.86975231664 658.261114197\n"
     ]
    },
    {
     "data": {
      "image/png": "[encoded data removed]",
      "text/plain": [
       "<matplotlib.figure.Figure at 0x10f2d1a50>"
      ]
     },
     "metadata": {},
     "output_type": "display_data"
    }
   ],
   "source": [
    "# try lineary regression mode\n",
    "from sklearn import datasets, linear_model\n",
    "\n",
    "# Create linear regression object\n",
    "regr = linear_model.LinearRegression()\n",
    "\n",
    "# Train the model using the training sets\n",
    "regr.fit(train_data, train_labels)\n",
    "\n",
    "# The coefficients\n",
    "print('Coefficients: \\n', regr.coef_)\n",
    "\n",
    "# score\n",
    "print('Variance score: %.2f' % regr.score(dev_data, dev_labels))\n",
    "\n",
    "# predict the dev data set\n",
    "dev_predictions=regr.predict(dev_data)\n",
    "print dev_predictions.shape, dev_labels.shape\n",
    "train_predict = regr.predict(train_data)\n",
    "# print dev_predictions[0], dev_labels[0]\n",
    "print np.amin(dev_labels), np.amax(dev_labels), np.amin(dev_predictions), np.amax(dev_predictions), np.amin(train_predict), np.amax(train_predict)\n",
    "\n",
    "\n",
    "# visualize predicted vs actual labels\n",
    "import matplotlib.pyplot as plt\n",
    "plt.axis([-40, 850, -40, 850])\n",
    "plt.plot(dev_labels, dev_predictions, 'r.')\n",
    "plt.plot(train_labels, train_predict, 'b.')\n",
    "plt.show()"
   ]
  },
  {
   "cell_type": "markdown",
   "metadata": {},
   "source": [
    "Interpretation of the Linear Regression model: TBD."
   ]
  },
  {
   "cell_type": "code",
   "execution_count": 4,
   "metadata": {
    "collapsed": false,
    "scrolled": true
   },
   "outputs": [
    {
     "name": "stdout",
     "output_type": "stream",
     "text": [
      "(896, 65) (896,)\n",
      "0.7109375\n",
      "(896,) (896,)\n",
      "0.0 361.0 0.0 238.0 0.0 835.0\n"
     ]
    },
    {
     "name": "stderr",
     "output_type": "stream",
     "text": [
      "/Library/Python/2.7/site-packages/sklearn/linear_model/base.py:239: RuntimeWarning: overflow encountered in exp\n",
      "  np.exp(prob, prob)\n"
     ]
    },
    {
     "data": {
      "image/png": "[encoded data removed]",
      "text/plain": [
       "<matplotlib.figure.Figure at 0x10b925890>"
      ]
     },
     "metadata": {},
     "output_type": "display_data"
    }
   ],
   "source": [
    "# model with logistic regression \n",
    "#\n",
    "logreg = LogisticRegression(penalty='l1', C=1.0, tol=0.01) \n",
    "logreg.fit(train_data, train_labels)\n",
    "\n",
    "# examine predict prob for test data\n",
    "print logreg.predict_proba(dev_data).shape, dev_labels.shape\n",
    "\n",
    "# coeff_ for predictor, e.g., 0th=incentive, 1st=pop, 2nd=household, 3rd=%owning home, etc\n",
    "# vs labels - 0th =0 charging station, 1st =1 charging station etc....\n",
    "# print('Incentive Count vs Count of Charging Stations: \\n', np.transpose(logreg.coef_)[0])\n",
    "\n",
    "# print('Home Ownership Percentage vs Count of Charging Stations: \\n', np.transpose(logreg.coef_)[2])\n",
    "\n",
    "# examine score for test data\n",
    "print logreg.score(dev_data, dev_labels)\n",
    "\n",
    "# predict the dev data set\n",
    "dev_predictions=logreg.predict(dev_data)\n",
    "print dev_predictions.shape, dev_labels.shape\n",
    "train_predict = logreg.predict(train_data)\n",
    "# print dev_predictions[0], dev_labels[0]\n",
    "print np.amin(dev_labels), np.amax(dev_labels), np.amin(dev_predictions), np.amax(dev_predictions), np.amin(train_predict), np.amax(train_predict)\n",
    "\n",
    "\n",
    "# visualize predicted vs actual labels\n",
    "import matplotlib.pyplot as plt\n",
    "plt.axis([0, 850, 0, 850])\n",
    "plt.plot(dev_labels, dev_predictions, 'r.')\n",
    "plt.plot(train_labels, train_predict, 'b.')\n",
    "plt.show()\n"
   ]
  },
  {
   "cell_type": "markdown",
   "metadata": {},
   "source": [
    "Logistic Regression showed very similar score of 71% to the linear regression for test data set. Prediction for test set was much worse than by linear regression and tend to underpredict the outcome. The best explanation I can come up with is that it appears logistic regression somehow overfitted the training set especially for the urban areas with many charging stations."
   ]
  },
  {
   "cell_type": "code",
   "execution_count": 5,
   "metadata": {
    "collapsed": false
   },
   "outputs": [
    {
     "name": "stdout",
     "output_type": "stream",
     "text": [
      "0.885447248784\n"
     ]
    },
    {
     "data": {
      "image/png": "[encoded data removed]",
      "text/plain": [
       "<matplotlib.figure.Figure at 0x110abdad0>"
      ]
     },
     "metadata": {},
     "output_type": "display_data"
    },
    {
     "name": "stdout",
     "output_type": "stream",
     "text": [
      "0.885519021853 1.83888392857 71.5875223214 0.885447248784\n",
      "1. feature 5  Households >$200K (0.415768)\n",
      "2. feature 4  Households $150-200K (0.313653)\n",
      "3. feature 1  Population (0.070369)\n",
      "4. feature 2  Households (0.063018)\n",
      "5. feature 3  % Owning Homes (0.041431)\n",
      "6. feature 7  Total Graduate Degree (0.022899)\n",
      "7. feature 6  Total College Grads (0.020761)\n",
      "8. feature 9  Median Income (0.017601)\n",
      "9. feature 8  % College Grads (0.017577)\n",
      "10. feature 0  Incentive (0.016921)\n"
     ]
    },
    {
     "data": {
      "image/png": "[encoded data removed]",
      "text/plain": [
       "<matplotlib.figure.Figure at 0x110b2e350>"
      ]
     },
     "metadata": {},
     "output_type": "display_data"
    }
   ],
   "source": [
    "# random forest modeling\n",
    "\n",
    "random = RandomForestRegressor(n_estimators=50)\n",
    "random.fit(train_data, train_labels)\n",
    "\n",
    "# Make predictions on dev data\n",
    "dev_predictions = random.predict(dev_data)\n",
    "# Predict train data to examine if model overfitted\n",
    "train_predict = random.predict(train_data)\n",
    "\n",
    "# examine score for test data\n",
    "print random.score(dev_data, dev_labels)\n",
    "\n",
    "plt.axis([-40, 850, -40, 850])\n",
    "plt.plot(dev_labels, dev_predictions, 'r.')\n",
    "plt.plot(train_labels, train_predict, 'b.')\n",
    "plt.plot([0,0],[500,500],'r-')\n",
    "plt.show()\n",
    "\n",
    "_explained_variance_score = explained_variance_score(dev_labels, dev_predictions)\n",
    "_mean_absolute_error = mean_absolute_error(dev_labels, dev_predictions)\n",
    "_mean_squared_error = mean_squared_error(dev_labels, dev_predictions)\n",
    "_r2_score = r2_score(dev_labels, dev_predictions)\n",
    "\n",
    "print _explained_variance_score, _mean_absolute_error, _mean_squared_error, _r2_score\n",
    "\n",
    "# predicting charging station count for Coppell Texas\n",
    "#X_Coppell=np.array([39551,0.488938333,37.9,22.1,64572,0.721044394])\n",
    "# print random.predict(X_Coppell)\n",
    "\n",
    "# evaluate the importances of the features\n",
    "importances = random.feature_importances_\n",
    "std = np.std([tree.feature_importances_ for tree in random.estimators_],\n",
    "            axis=0)\n",
    "indices = np.argsort(importances)[::-1]\n",
    "\n",
    "for f in range(10):\n",
    "    print(\"%d. feature %d  %s (%f)\" % ( f + 1, indices[f], feaname[indices[f]], importances[indices[f]]))\n",
    "\n",
    "# plot the feature importances\n",
    "plt.figure()\n",
    "plt.title(\"Feature Importances\")\n",
    "plt.bar(range(10), importances[indices], \n",
    "       color='r', yerr=std[indices], align=\"center\")\n",
    "plt.xlim([-1,10])\n",
    "plt.show()"
   ]
  },
  {
   "cell_type": "code",
   "execution_count": 6,
   "metadata": {
    "collapsed": false
   },
   "outputs": [
    {
     "name": "stdout",
     "output_type": "stream",
     "text": [
      "0.717633928571\n"
     ]
    },
    {
     "data": {
      "image/png": "[encoded data removed]",
      "text/plain": [
       "<matplotlib.figure.Figure at 0x110ae8f90>"
      ]
     },
     "metadata": {},
     "output_type": "display_data"
    },
    {
     "name": "stdout",
     "output_type": "stream",
     "text": [
      "1. feature 2  Households (0.130740)\n",
      "2. feature 1  Population (0.124822)\n",
      "3. feature 5  Households >$200K (0.115461)\n",
      "4. feature 4  Households $150-200K (0.114798)\n",
      "5. feature 8  % College Grads (0.100085)\n",
      "6. feature 7  Total Graduate Degree (0.090941)\n",
      "7. feature 9  Median Income (0.088993)\n",
      "8. feature 3  % Owning Homes (0.087801)\n",
      "9. feature 6  Total College Grads (0.082868)\n",
      "10. feature 0  Incentive (0.063492)\n"
     ]
    },
    {
     "data": {
      "image/png": "[encoded data removed]",
      "text/plain": [
       "<matplotlib.figure.Figure at 0x110adb950>"
      ]
     },
     "metadata": {},
     "output_type": "display_data"
    }
   ],
   "source": [
    "# try to rank importance of features from 250 Decision Trees \n",
    "from sklearn.ensemble import ExtraTreesClassifier\n",
    "\n",
    "forest = ExtraTreesClassifier(n_estimators=250, random_state=0)\n",
    "# fit the whole data set and calcualte feature importances\n",
    "forest.fit(train_data, train_labels)\n",
    "\n",
    "# Make predictions on dev data\n",
    "dev_predictions = forest.predict(dev_data)\n",
    "# Predict train data to examine if model overfitted\n",
    "train_predict = forest.predict(train_data)\n",
    "\n",
    "# examine score for test data\n",
    "print forest.score(dev_data, dev_labels)\n",
    "\n",
    "plt.axis([-40, 850, -40, 850])\n",
    "plt.plot(dev_labels, dev_predictions, 'r.')\n",
    "plt.plot(train_labels, train_predict, 'b.')\n",
    "plt.show()\n",
    "\n",
    "importances = forest.feature_importances_\n",
    "std = np.std([tree.feature_importances_ for tree in forest.estimators_],\n",
    "            axis=0)\n",
    "indices = np.argsort(importances)[::-1]\n",
    "\n",
    "for f in range(10):\n",
    "    print(\"%d. feature %d  %s (%f)\" % ( f + 1, indices[f], feaname[indices[f]], importances[indices[f]]))\n",
    "\n",
    "# plot the feature importances\n",
    "plt.figure()\n",
    "plt.title(\"Feature Importances\")\n",
    "plt.bar(range(10), importances[indices], \n",
    "       color='r', yerr=std[indices], align=\"center\")\n",
    "plt.xlim([-1,10])\n",
    "plt.show()"
   ]
  },
  {
   "cell_type": "code",
   "execution_count": 7,
   "metadata": {
    "collapsed": false
   },
   "outputs": [],
   "source": [
    "# import pandas\n",
    "# to do's Friday night - use case - predict the most potential urban areas for EV adoption or growth\n",
    "# use the best model - random forest model with the 10 attributes to:\n",
    "# predict top urban area EV pravalence or CS counts\n",
    "# write the predicted CS counts with numpy savetxt() - add a new column \"Predicted Station Count\"\n",
    "# merge with the unparsed data with long/lat data \n",
    "# sort based on the difference of predicted versus actual counts\n",
    "# the bigger the predicted - actual, the more potential there is for the urban area to adopt EV\n",
    "# \n",
    "#reload all parsed urban area data with the same selected attributes as the first part of the modeling\n",
    "X = np.loadtxt(\"data/parsed_urban_area_data.csv\",delimiter = ',',usecols = (1,2,3,4,5,6,7,8,9,10)) \n",
    "# reload the actual labels\n",
    "Y_actual = np.loadtxt(\"data/parsed_urban_area_data.csv\",delimiter = ',',usecols = (0,),dtype=float)  \n",
    "\n",
    "# predict charging station counts based on Random Forest model previously\n",
    "Y_predict = random.predict(X)\n",
    "\n",
    "# print X.shape, Y_actual.T.shape, Y_predict.T.shape\n",
    "\n",
    "X1=np.column_stack((Y_predict, Y_actual, X))\n",
    "# print X1\n",
    "\n",
    "np.savetxt('predicted_urban_areas.csv', X1, fmt='%f',delimiter=',',newline='\\n',header='',footer='')\n",
    "\n"
   ]
  },
  {
   "cell_type": "code",
   "execution_count": null,
   "metadata": {
    "collapsed": true
   },
   "outputs": [],
   "source": []
  }
 ],
 "metadata": {
  "kernelspec": {
   "display_name": "Python 2",
   "language": "python",
   "name": "python2"
  },
  "language_info": {
   "codemirror_mode": {
    "name": "ipython",
    "version": 2
   },
   "file_extension": ".py",
   "mimetype": "text/x-python",
   "name": "python",
   "nbconvert_exporter": "python",
   "pygments_lexer": "ipython2",
   "version": "2.7.6"
  }
 },
 "nbformat": 4,
 "nbformat_minor": 0
}
